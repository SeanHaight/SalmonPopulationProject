{
 "cells": [
  {
   "cell_type": "code",
   "execution_count": 1,
   "id": "b7e92460",
   "metadata": {},
   "outputs": [],
   "source": [
    "import pandas as pd\n",
    "import numpy as np\n",
    "import matplotlib.pyplot as plt\n",
    "import seaborn as sns\n",
    "from sklearn.linear_model import Ridge, Lasso\n",
    "from sklearn.model_selection import train_test_split\n",
    "from sklearn.preprocessing import StandardScaler\n",
    "\n",
    "sns.set_style(\"whitegrid\")"
   ]
  },
  {
   "cell_type": "markdown",
   "id": "737f7e82",
   "metadata": {},
   "source": [
    "Years"
   ]
  },
  {
   "cell_type": "code",
   "execution_count": 2,
   "id": "d4de76eb",
   "metadata": {
    "scrolled": true
   },
   "outputs": [],
   "source": [
    "#Years we concerned with \n",
    "start_year=1990\n",
    "end_year=2017\n",
    "year_range = range(start_year, end_year+1) "
   ]
  },
  {
   "cell_type": "markdown",
   "id": "43f1b41b",
   "metadata": {},
   "source": [
    "Some Functions"
   ]
  },
  {
   "cell_type": "code",
   "execution_count": 3,
   "id": "e767aa58",
   "metadata": {},
   "outputs": [],
   "source": [
    "###\n",
    "##"
   ]
  },
  {
   "cell_type": "markdown",
   "id": "505320eb",
   "metadata": {},
   "source": [
    "# Data Reads"
   ]
  },
  {
   "cell_type": "markdown",
   "id": "0b2fe023",
   "metadata": {},
   "source": [
    "## Salmon Survivals"
   ]
  },
  {
   "cell_type": "code",
   "execution_count": 4,
   "id": "cfacc184",
   "metadata": {
    "scrolled": true
   },
   "outputs": [],
   "source": [
    "#Read ZooPlanktonPerryData file\n",
    "##obtain SalmonSurvivals_data\n",
    "            #Take years less than or equal to 2017\n",
    "                            #last row (year 2018) has only NaN\n",
    "\n",
    "\n",
    "file_path = \"Data/ZooPlanktonPerryData.xlsx\"\n",
    "selected_sheet = \"5. Salmon marine survivals\"  \n",
    "df = pd.read_excel(file_path, sheet_name=selected_sheet)\n",
    "SalmonSurvivals_data = df[df[\"Ocean Entry Year\"]<=2017]\n"
   ]
  },
  {
   "cell_type": "code",
   "execution_count": 5,
   "id": "9a7a4fd6",
   "metadata": {},
   "outputs": [],
   "source": [
    "#Rename the columns \n",
    "column_mapping = {\n",
    "    'Ocean Entry Year': 'year',\n",
    "    'Cowichan Chinook': 'Cowichan_Chinook',\n",
    "    'Harrison Chinook': 'Harrison_Chinook',\n",
    "    'Puntledge Chinook': 'Puntledge_Chinook',\n",
    "    'Big Qualicum Coho': 'Big_Qualicum_Coho'\n",
    "}\n",
    "\n",
    "salmonSurvivals = SalmonSurvivals_data.rename(columns=column_mapping)"
   ]
  },
  {
   "cell_type": "code",
   "execution_count": 6,
   "id": "e1f676f8",
   "metadata": {
    "scrolled": true
   },
   "outputs": [],
   "source": [
    "# List of salmon types \n",
    "salmonTypes_List = ['Cowichan_Chinook', 'Harrison_Chinook', 'Puntledge_Chinook', 'Big_Qualicum_Coho']\n"
   ]
  },
  {
   "cell_type": "markdown",
   "id": "391babe8",
   "metadata": {},
   "source": [
    "## Feeding"
   ]
  },
  {
   "cell_type": "markdown",
   "id": "a01567a6",
   "metadata": {},
   "source": [
    "### Total Zooplankton Biomasses"
   ]
  },
  {
   "cell_type": "code",
   "execution_count": 7,
   "id": "03cb4686",
   "metadata": {
    "scrolled": true
   },
   "outputs": [],
   "source": [
    "#Read ZooPlanktonPerryData file\n",
    "\n",
    "##obtain  plankBiomass_data   \n",
    "###take the years less than 2017 \n",
    "###we drop \n",
    "file_path = \"Data/ZooPlanktonPerryData.xlsx\"\n",
    "selected_sheet = \"1. Zooplankton Biomass data\"  \n",
    "df = pd.read_excel(file_path, sheet_name=selected_sheet)\n",
    "df= df[df[\"yr\"]<=2017]\n",
    "plankBiomass_data=df.drop(columns=['key', 'survey', 'region', 'event', 'net', 'station', 'lon', 'lat', 'mon', 'day', 'time',  'twilight', 'net.type', 'diam.m', 'mesh.um', 'startz.m', 'endz.m','botz.m',\n",
    "       'volfilt.m3'])\n",
    "\n",
    "##  BiomassDefs      (if info on column names is needed)\n",
    "selected_sheet = \"2. Biomass data definitions\"  \n",
    "BiomassDefs = pd.read_excel(file_path, sheet_name=selected_sheet)\n"
   ]
  },
  {
   "cell_type": "code",
   "execution_count": 8,
   "id": "9a27f7dd",
   "metadata": {},
   "outputs": [],
   "source": [
    "## Create a new DataFrame which contains years and corresponding total biomasses mean\n",
    "#Calculate average Total Biomass for each year inside the common year range\n",
    "#drop duplicates\n",
    "#reset index\n",
    "\n",
    "totalBiomass_av= pd.DataFrame()\n",
    "\n",
    "totalBiomass_av['year']= plankBiomass_data['yr']\n",
    "totalBiomass_av['Av_totalBiomass']= plankBiomass_data.groupby('yr')['Total.Biomass'].transform('mean')\n",
    "totalBiomass_av.drop_duplicates(inplace=True)\n",
    "totalBiomass_av.reset_index(inplace=True, drop=True)\n"
   ]
  },
  {
   "cell_type": "code",
   "execution_count": 9,
   "id": "402d27c2",
   "metadata": {},
   "outputs": [],
   "source": [
    "# Create a new DataFrame for averaged values\n",
    "#Group by 'yr' and calculate the annual mean of Zooplanktons\n",
    "#drop duplicates\n",
    "#rename the columns for convenienve\n",
    "#reset_index\n",
    "\n",
    "plankBiomassMean = pd.DataFrame()\n",
    "\n",
    "\n",
    "for column in plankBiomass_data.columns:\n",
    "    if column in ['yr', 'region']:\n",
    "        plankBiomassMean[column] = plankBiomass_data[column]\n",
    "    else:\n",
    "        name = 'Av_' + column\n",
    "        plankBiomassMean[name] = plankBiomass_data.groupby('yr')[column].transform('mean')\n",
    "\n",
    "plankBiomassMean.drop_duplicates(subset=['yr'], inplace=True)\n",
    "plankBiomassMean.rename(columns={'yr': 'year', 'Av_Total.Biomass': 'Av_totalBiomass'},  inplace=True)\n",
    "plankBiomassMean.reset_index(inplace=True)\n"
   ]
  },
  {
   "cell_type": "markdown",
   "id": "7616dfc0",
   "metadata": {},
   "source": [
    "### Cleaned data"
   ]
  },
  {
   "cell_type": "code",
   "execution_count": 10,
   "id": "7ebb5e6d",
   "metadata": {},
   "outputs": [
    {
     "data": {
      "text/html": [
       "<div>\n",
       "<style scoped>\n",
       "    .dataframe tbody tr th:only-of-type {\n",
       "        vertical-align: middle;\n",
       "    }\n",
       "\n",
       "    .dataframe tbody tr th {\n",
       "        vertical-align: top;\n",
       "    }\n",
       "\n",
       "    .dataframe thead th {\n",
       "        text-align: right;\n",
       "    }\n",
       "</style>\n",
       "<table border=\"1\" class=\"dataframe\">\n",
       "  <thead>\n",
       "    <tr style=\"text-align: right;\">\n",
       "      <th></th>\n",
       "      <th>index</th>\n",
       "      <th>year</th>\n",
       "      <th>Av_AmphiGam</th>\n",
       "      <th>Av_AmphiHyp</th>\n",
       "      <th>Av_BenthicLarv</th>\n",
       "      <th>Av_CalCops.larg</th>\n",
       "      <th>Av_CalCops.med</th>\n",
       "      <th>Av_CalCops.smal</th>\n",
       "      <th>Av_Cephalopoda</th>\n",
       "      <th>Av_Chaetognatha</th>\n",
       "      <th>...</th>\n",
       "      <th>Av_Natantia</th>\n",
       "      <th>Av_NonCalCops</th>\n",
       "      <th>Av_Ostracoda</th>\n",
       "      <th>Av_Other</th>\n",
       "      <th>Av_PolychaetPelagic</th>\n",
       "      <th>Av_Pteropods</th>\n",
       "      <th>Av_Repantia</th>\n",
       "      <th>Av_Scyphozoa</th>\n",
       "      <th>Av_Siphonophorae</th>\n",
       "      <th>Av_totalBiomass</th>\n",
       "    </tr>\n",
       "  </thead>\n",
       "  <tbody>\n",
       "    <tr>\n",
       "      <th>0</th>\n",
       "      <td>0</td>\n",
       "      <td>1996</td>\n",
       "      <td>3.099832</td>\n",
       "      <td>1.324307</td>\n",
       "      <td>0.274767</td>\n",
       "      <td>13.213023</td>\n",
       "      <td>9.285405</td>\n",
       "      <td>0.929795</td>\n",
       "      <td>0.015525</td>\n",
       "      <td>0.358527</td>\n",
       "      <td>...</td>\n",
       "      <td>0.718163</td>\n",
       "      <td>0.322313</td>\n",
       "      <td>2.674950</td>\n",
       "      <td>0.083352</td>\n",
       "      <td>1.615180</td>\n",
       "      <td>0.324095</td>\n",
       "      <td>0.081970</td>\n",
       "      <td>0.0</td>\n",
       "      <td>0.531088</td>\n",
       "      <td>37.388238</td>\n",
       "    </tr>\n",
       "    <tr>\n",
       "      <th>1</th>\n",
       "      <td>4</td>\n",
       "      <td>1997</td>\n",
       "      <td>8.415328</td>\n",
       "      <td>1.458525</td>\n",
       "      <td>0.033581</td>\n",
       "      <td>24.451942</td>\n",
       "      <td>9.381715</td>\n",
       "      <td>0.810660</td>\n",
       "      <td>0.022965</td>\n",
       "      <td>1.561735</td>\n",
       "      <td>...</td>\n",
       "      <td>0.606682</td>\n",
       "      <td>0.358207</td>\n",
       "      <td>3.035919</td>\n",
       "      <td>0.041017</td>\n",
       "      <td>0.437920</td>\n",
       "      <td>0.482410</td>\n",
       "      <td>4.063566</td>\n",
       "      <td>0.0</td>\n",
       "      <td>0.431464</td>\n",
       "      <td>71.212723</td>\n",
       "    </tr>\n",
       "    <tr>\n",
       "      <th>2</th>\n",
       "      <td>17</td>\n",
       "      <td>1998</td>\n",
       "      <td>8.007227</td>\n",
       "      <td>3.214592</td>\n",
       "      <td>0.572927</td>\n",
       "      <td>12.494889</td>\n",
       "      <td>11.405672</td>\n",
       "      <td>1.033331</td>\n",
       "      <td>0.053075</td>\n",
       "      <td>0.980033</td>\n",
       "      <td>...</td>\n",
       "      <td>0.637259</td>\n",
       "      <td>0.325437</td>\n",
       "      <td>3.960144</td>\n",
       "      <td>0.004294</td>\n",
       "      <td>0.897803</td>\n",
       "      <td>2.674066</td>\n",
       "      <td>0.688282</td>\n",
       "      <td>0.0</td>\n",
       "      <td>0.202136</td>\n",
       "      <td>105.522363</td>\n",
       "    </tr>\n",
       "  </tbody>\n",
       "</table>\n",
       "<p>3 rows × 27 columns</p>\n",
       "</div>"
      ],
      "text/plain": [
       "   index  year  Av_AmphiGam  Av_AmphiHyp  Av_BenthicLarv  Av_CalCops.larg  \\\n",
       "0      0  1996     3.099832     1.324307        0.274767        13.213023   \n",
       "1      4  1997     8.415328     1.458525        0.033581        24.451942   \n",
       "2     17  1998     8.007227     3.214592        0.572927        12.494889   \n",
       "\n",
       "   Av_CalCops.med  Av_CalCops.smal  Av_Cephalopoda  Av_Chaetognatha  ...  \\\n",
       "0        9.285405         0.929795        0.015525         0.358527  ...   \n",
       "1        9.381715         0.810660        0.022965         1.561735  ...   \n",
       "2       11.405672         1.033331        0.053075         0.980033  ...   \n",
       "\n",
       "   Av_Natantia  Av_NonCalCops  Av_Ostracoda  Av_Other  Av_PolychaetPelagic  \\\n",
       "0     0.718163       0.322313      2.674950  0.083352             1.615180   \n",
       "1     0.606682       0.358207      3.035919  0.041017             0.437920   \n",
       "2     0.637259       0.325437      3.960144  0.004294             0.897803   \n",
       "\n",
       "   Av_Pteropods  Av_Repantia  Av_Scyphozoa  Av_Siphonophorae  Av_totalBiomass  \n",
       "0      0.324095     0.081970           0.0          0.531088        37.388238  \n",
       "1      0.482410     4.063566           0.0          0.431464        71.212723  \n",
       "2      2.674066     0.688282           0.0          0.202136       105.522363  \n",
       "\n",
       "[3 rows x 27 columns]"
      ]
     },
     "metadata": {},
     "output_type": "display_data"
    },
    {
     "data": {
      "text/html": [
       "<div>\n",
       "<style scoped>\n",
       "    .dataframe tbody tr th:only-of-type {\n",
       "        vertical-align: middle;\n",
       "    }\n",
       "\n",
       "    .dataframe tbody tr th {\n",
       "        vertical-align: top;\n",
       "    }\n",
       "\n",
       "    .dataframe thead th {\n",
       "        text-align: right;\n",
       "    }\n",
       "</style>\n",
       "<table border=\"1\" class=\"dataframe\">\n",
       "  <thead>\n",
       "    <tr style=\"text-align: right;\">\n",
       "      <th></th>\n",
       "      <th>year</th>\n",
       "      <th>Av_totalBiomass</th>\n",
       "    </tr>\n",
       "  </thead>\n",
       "  <tbody>\n",
       "    <tr>\n",
       "      <th>0</th>\n",
       "      <td>1996</td>\n",
       "      <td>37.388238</td>\n",
       "    </tr>\n",
       "    <tr>\n",
       "      <th>1</th>\n",
       "      <td>1997</td>\n",
       "      <td>71.212723</td>\n",
       "    </tr>\n",
       "    <tr>\n",
       "      <th>2</th>\n",
       "      <td>1998</td>\n",
       "      <td>105.522363</td>\n",
       "    </tr>\n",
       "  </tbody>\n",
       "</table>\n",
       "</div>"
      ],
      "text/plain": [
       "   year  Av_totalBiomass\n",
       "0  1996        37.388238\n",
       "1  1997        71.212723\n",
       "2  1998       105.522363"
      ]
     },
     "metadata": {},
     "output_type": "display_data"
    }
   ],
   "source": [
    "display(plankBiomassMean.head(3))\n",
    "display(totalBiomass_av.head(3))\n",
    "#Note: data of totalBiomass_av appears in plankBiomassMean"
   ]
  },
  {
   "cell_type": "markdown",
   "id": "668a6308",
   "metadata": {},
   "source": [
    "## Water Qualities\n"
   ]
  },
  {
   "cell_type": "markdown",
   "id": "5fa86d13",
   "metadata": {},
   "source": [
    "### Sea Level"
   ]
  },
  {
   "cell_type": "code",
   "execution_count": 11,
   "id": "1645611c",
   "metadata": {
    "scrolled": true
   },
   "outputs": [],
   "source": [
    "## Read the Annual Mean Sea Levels\n",
    "        #there are data of four ports\n",
    "#Take the years between start_year and end_year\n",
    "#Take the positive values (non existent data entered as -99999\n",
    "#drop the columns 2 and 3 to keep year and sea level measurement\n",
    "#rename the column that contains Sea Level measurement\n",
    "\n",
    "\n",
    "file_path=\"Data/SeaLevel_Point_Atkinson193.txt\"\n",
    "df=pd.read_csv(file_path, header=None,delimiter=';')\n",
    "df= df[(df[0] >= start_year) & (df[0] <= end_year) & (df[1]>=0)].drop(columns=[2,3])\n",
    "seaLevelPointA_clean =df.rename(columns={0: 'year', 1: 'SeaLevel_Point_Atkinson'})\n",
    "#missing year 1997\n",
    "\n",
    "file_path=\"Data/SeaLevel_Port_Angeles2127.txt\"\n",
    "df =pd.read_csv(file_path, header=None,delimiter=';')\n",
    "df= df[(df[0] >= start_year) & (df[0] <= end_year) & (df[1]>=0)].drop(columns=[2,3])\n",
    "seaLevelPortA_clean= df.rename(columns={0: 'year', 1: 'SeaLevel_Port_Angeles'})\n",
    "#no missing year\n",
    "\n",
    "file_path=\"Data/SeaLevel_Campbell_River1323.txt\"\n",
    "df=pd.read_csv(file_path, header=None,delimiter=';')\n",
    "df= df[(df[0] >= start_year) & (df[0] <= end_year) & (df[1]>=0)].drop(columns=[2,3])\n",
    "seaLevelCampbellR_clean= df.rename(columns={0: 'year', 1: 'SeaLevel_Campbell_River'})\n",
    "#missing year 1995 & 1996\n",
    "\n",
    "file_path=\"Data/SeaLevel_Cherry_annualMean.txt\"\n",
    "df= pd.read_csv(file_path, header=None,delimiter=';')\n",
    "df= df[(df[0] >= start_year) & (df[0] <= end_year) & (df[1]>=0)].drop(columns=[2,3])\n",
    "seaLevelCherryP_clean= df.rename(columns={0: 'year', 1: 'SeaLevel_Cherry'})\n",
    "#missing year 1994"
   ]
  },
  {
   "cell_type": "code",
   "execution_count": 12,
   "id": "ff07243d",
   "metadata": {},
   "outputs": [],
   "source": [
    "#Merge the sea Levels\n",
    "#Calculate their average \n",
    "    #missing data is ignored \n",
    "        #note: if a year is missing it's only missing at most one of the ports\n",
    "\n",
    "merged_df= pd.merge(seaLevelPortA_clean, seaLevelPointA_clean, on='year', how='outer')\n",
    "merged_df = pd.merge(merged_df, seaLevelCampbellR_clean, on='year', how='outer')\n",
    "seaLevels = pd.merge(merged_df, seaLevelCherryP_clean, on='year', how='outer')\n",
    "\n",
    "seaLevels['av_SeaLevels']= seaLevels.iloc[:,1:].mean(axis=1, skipna=True)\n"
   ]
  },
  {
   "cell_type": "markdown",
   "id": "611c5a9e",
   "metadata": {},
   "source": [
    "### Salinity"
   ]
  },
  {
   "cell_type": "code",
   "execution_count": 13,
   "id": "4af26ddc",
   "metadata": {},
   "outputs": [],
   "source": [
    "####"
   ]
  },
  {
   "cell_type": "markdown",
   "id": "3aa84082",
   "metadata": {},
   "source": [
    "### Cleaned data"
   ]
  },
  {
   "cell_type": "markdown",
   "id": "2daa549e",
   "metadata": {},
   "source": [
    "Cleaned data frame for this section: seaLevels"
   ]
  },
  {
   "cell_type": "code",
   "execution_count": 14,
   "id": "3d557e3e",
   "metadata": {},
   "outputs": [
    {
     "data": {
      "text/html": [
       "<div>\n",
       "<style scoped>\n",
       "    .dataframe tbody tr th:only-of-type {\n",
       "        vertical-align: middle;\n",
       "    }\n",
       "\n",
       "    .dataframe tbody tr th {\n",
       "        vertical-align: top;\n",
       "    }\n",
       "\n",
       "    .dataframe thead th {\n",
       "        text-align: right;\n",
       "    }\n",
       "</style>\n",
       "<table border=\"1\" class=\"dataframe\">\n",
       "  <thead>\n",
       "    <tr style=\"text-align: right;\">\n",
       "      <th></th>\n",
       "      <th>year</th>\n",
       "      <th>SeaLevel_Port_Angeles</th>\n",
       "      <th>SeaLevel_Point_Atkinson</th>\n",
       "      <th>SeaLevel_Campbell_River</th>\n",
       "      <th>SeaLevel_Cherry</th>\n",
       "      <th>av_SeaLevels</th>\n",
       "    </tr>\n",
       "  </thead>\n",
       "  <tbody>\n",
       "    <tr>\n",
       "      <th>0</th>\n",
       "      <td>1990</td>\n",
       "      <td>6940</td>\n",
       "      <td>7048.0</td>\n",
       "      <td>7036.0</td>\n",
       "      <td>7002.0</td>\n",
       "      <td>7006.5</td>\n",
       "    </tr>\n",
       "    <tr>\n",
       "      <th>1</th>\n",
       "      <td>1991</td>\n",
       "      <td>6923</td>\n",
       "      <td>7047.0</td>\n",
       "      <td>7031.0</td>\n",
       "      <td>7007.0</td>\n",
       "      <td>7002.0</td>\n",
       "    </tr>\n",
       "    <tr>\n",
       "      <th>2</th>\n",
       "      <td>1992</td>\n",
       "      <td>7007</td>\n",
       "      <td>7109.0</td>\n",
       "      <td>7083.0</td>\n",
       "      <td>7069.0</td>\n",
       "      <td>7067.0</td>\n",
       "    </tr>\n",
       "  </tbody>\n",
       "</table>\n",
       "</div>"
      ],
      "text/plain": [
       "   year  SeaLevel_Port_Angeles  SeaLevel_Point_Atkinson  \\\n",
       "0  1990                   6940                   7048.0   \n",
       "1  1991                   6923                   7047.0   \n",
       "2  1992                   7007                   7109.0   \n",
       "\n",
       "   SeaLevel_Campbell_River  SeaLevel_Cherry  av_SeaLevels  \n",
       "0                   7036.0           7002.0        7006.5  \n",
       "1                   7031.0           7007.0        7002.0  \n",
       "2                   7083.0           7069.0        7067.0  "
      ]
     },
     "execution_count": 14,
     "metadata": {},
     "output_type": "execute_result"
    }
   ],
   "source": [
    "seaLevels.head(3)"
   ]
  },
  {
   "cell_type": "markdown",
   "id": "01c891c6",
   "metadata": {},
   "source": [
    "# Predators"
   ]
  },
  {
   "cell_type": "markdown",
   "id": "df409a7f",
   "metadata": {},
   "source": [
    "Predators in nature (From Roy's EDA)"
   ]
  },
  {
   "cell_type": "code",
   "execution_count": 15,
   "id": "e75db452",
   "metadata": {},
   "outputs": [],
   "source": [
    "#Read Seal and Whale data\n",
    "\n",
    "Seal_file = pd.read_excel('Pred_env_data/harbourseals_1970to2020.xlsx','harbourseals_1970to2020')\n",
    "Whale_file = pd.read_excel('Pred_env_data/Misc_data/killerwhales_1970to2020.xlsx','killerwhales_1970to2020')\n",
    "\n",
    "Seal_data = Seal_file.loc[(Seal_file['year'] >= start_year) & (Seal_file['year'] <= end_year)]\n",
    "Whale_data = Whale_file.loc[(Whale_file['Year'] >= start_year) & (Whale_file['Year'] <= end_year)].rename(columns={'Year': 'year'})\n"
   ]
  },
  {
   "cell_type": "markdown",
   "id": "c975d426",
   "metadata": {},
   "source": [
    "Recreational catch (From Roy's EDA)"
   ]
  },
  {
   "cell_type": "code",
   "execution_count": 16,
   "id": "e7233da5",
   "metadata": {},
   "outputs": [],
   "source": [
    "df=pd.read_excel('Pred_env_Data/Recreational reported fishery catch 1953-2012.xlsx')\n",
    "recreationalCatch_data=df[(df[\"YEAR\"]>=start_year) & (df[\"YEAR\"]<=end_year)]"
   ]
  },
  {
   "cell_type": "code",
   "execution_count": 17,
   "id": "233eacbf",
   "metadata": {},
   "outputs": [],
   "source": [
    "# Filter the DataFrame for CHINOOK and COHO SALMON\n",
    "# Sum the total pieces in a given year\n",
    "#Create a data frame for the yearly sum of CHINOOK and COHO SALMON pieces\n",
    "\n",
    "chinook_data = recreationalCatch_data[recreationalCatch_data['SPECIES_DESC'] == 'CHINOOK SALMON'].rename(columns={'YEAR': 'year'})\n",
    "coho_data = recreationalCatch_data[recreationalCatch_data['SPECIES_DESC'] == 'COHO SALMON'].rename(columns={'YEAR': 'year'})\n",
    "\n",
    "\n",
    "chinook_sum_year = chinook_data.groupby('year')['PIECES'].sum().reset_index(name=\"rc_Chinook\")\n",
    "coho_sum_year = coho_data.groupby('year')['PIECES'].sum().reset_index(name=\"rc_Coho\")\n",
    "\n",
    "rec_catch= pd.merge(chinook_sum_year, coho_sum_year, on='year', how='outer')"
   ]
  },
  {
   "cell_type": "code",
   "execution_count": 18,
   "id": "e0071276",
   "metadata": {},
   "outputs": [],
   "source": [
    "#Combine Seal, Whale and Sum of Rec catch into a new data frame\n",
    "\n",
    "merged_df= pd.merge(rec_catch, Seal_data.drop(columns=['nonSogNt', 'bcNt']), on='year', how='outer')\n",
    "merged_df = pd.merge(merged_df, Whale_data.drop(columns=['SRKW', 'srkwSource', 'nrkwSource']), on='year', how='outer')\n",
    "\n",
    "predators= merged_df.rename(columns={'sogNt': 'Seal_sogNt', 'NRKW': 'Whale_NRKW'})"
   ]
  },
  {
   "cell_type": "markdown",
   "id": "63573291",
   "metadata": {},
   "source": [
    "### Cleaned data"
   ]
  },
  {
   "cell_type": "markdown",
   "id": "0c2d9ad5",
   "metadata": {},
   "source": [
    "Cleaned data frame for this section: predators "
   ]
  },
  {
   "cell_type": "code",
   "execution_count": 19,
   "id": "b45e86cc",
   "metadata": {},
   "outputs": [
    {
     "data": {
      "text/html": [
       "<div>\n",
       "<style scoped>\n",
       "    .dataframe tbody tr th:only-of-type {\n",
       "        vertical-align: middle;\n",
       "    }\n",
       "\n",
       "    .dataframe tbody tr th {\n",
       "        vertical-align: top;\n",
       "    }\n",
       "\n",
       "    .dataframe thead th {\n",
       "        text-align: right;\n",
       "    }\n",
       "</style>\n",
       "<table border=\"1\" class=\"dataframe\">\n",
       "  <thead>\n",
       "    <tr style=\"text-align: right;\">\n",
       "      <th></th>\n",
       "      <th>year</th>\n",
       "      <th>rc_Chinook</th>\n",
       "      <th>rc_Coho</th>\n",
       "      <th>Seal_sogNt</th>\n",
       "      <th>Whale_NRKW</th>\n",
       "    </tr>\n",
       "  </thead>\n",
       "  <tbody>\n",
       "    <tr>\n",
       "      <th>0</th>\n",
       "      <td>1990</td>\n",
       "      <td>214618.0</td>\n",
       "      <td>697063.0</td>\n",
       "      <td>27124</td>\n",
       "      <td>194.0</td>\n",
       "    </tr>\n",
       "    <tr>\n",
       "      <th>1</th>\n",
       "      <td>1991</td>\n",
       "      <td>207730.0</td>\n",
       "      <td>234207.0</td>\n",
       "      <td>30358</td>\n",
       "      <td>198.0</td>\n",
       "    </tr>\n",
       "    <tr>\n",
       "      <th>2</th>\n",
       "      <td>1992</td>\n",
       "      <td>221024.0</td>\n",
       "      <td>721331.0</td>\n",
       "      <td>33604</td>\n",
       "      <td>204.0</td>\n",
       "    </tr>\n",
       "  </tbody>\n",
       "</table>\n",
       "</div>"
      ],
      "text/plain": [
       "   year  rc_Chinook   rc_Coho  Seal_sogNt  Whale_NRKW\n",
       "0  1990    214618.0  697063.0       27124       194.0\n",
       "1  1991    207730.0  234207.0       30358       198.0\n",
       "2  1992    221024.0  721331.0       33604       204.0"
      ]
     },
     "execution_count": 19,
     "metadata": {},
     "output_type": "execute_result"
    }
   ],
   "source": [
    "predators.head(3)"
   ]
  },
  {
   "cell_type": "markdown",
   "id": "347c80a6",
   "metadata": {},
   "source": [
    "# Lasso & Ridge "
   ]
  },
  {
   "cell_type": "markdown",
   "id": "ebac4826",
   "metadata": {},
   "source": [
    "## Combine data"
   ]
  },
  {
   "cell_type": "code",
   "execution_count": 20,
   "id": "52d0dc58",
   "metadata": {},
   "outputs": [],
   "source": [
    "#Numbers corresponds to the place of the salmon types in the  salmonTypes_List\n",
    "    #for Cowichan Chinook\n",
    "cc=0\n",
    "        #for Harrison Chinook\n",
    "hc=1\n",
    "        #for Puntledge Chinook\n",
    "pc=2\n",
    "        #for Big Qualicum Coho\n",
    "bqc=3"
   ]
  },
  {
   "cell_type": "code",
   "execution_count": 21,
   "id": "2e39469a",
   "metadata": {},
   "outputs": [],
   "source": [
    "# Combine the features we want to consider\n",
    "##Drop NAN \n",
    "###The below combines [salmonSurvivals, predators, seaLevels, totalBiomass_av]\n",
    "\n",
    "merged_df= pd.merge(salmonSurvivals, predators, on='year', how='outer')\n",
    "merged_df = pd.merge(merged_df, seaLevels[['year', 'av_SeaLevels']], on='year', how='outer')\n",
    "merged_df = pd.merge (merged_df, totalBiomass_av, on='year', how='outer')\n",
    "\n",
    "salmonSurvivals__predators__SeaLevels__totalBiomass_av = merged_df.dropna().reset_index(drop=True)\n"
   ]
  },
  {
   "cell_type": "code",
   "execution_count": 22,
   "id": "ef68753b",
   "metadata": {},
   "outputs": [],
   "source": [
    "#Selected features data frame\n",
    "##New data frame is created in order to use other combination/merged of features\n",
    "\n",
    "salmonSelectedFeatures=salmonSurvivals__predators__SeaLevels__totalBiomass_av.drop(['year'], axis=1)"
   ]
  },
  {
   "cell_type": "markdown",
   "id": "26063a2f",
   "metadata": {},
   "source": [
    "## Lasso for Cowichan Chinook"
   ]
  },
  {
   "cell_type": "code",
   "execution_count": 23,
   "id": "d9453b78",
   "metadata": {},
   "outputs": [],
   "source": [
    "#For different Salmon type adapt the type_number\n",
    "    ##Different Salmon type might need different alphas\n",
    "\n",
    "type_number=cc\n",
    "type_name=salmonTypes_List[type_number]"
   ]
  },
  {
   "cell_type": "code",
   "execution_count": 24,
   "id": "e3810408",
   "metadata": {},
   "outputs": [],
   "source": [
    "#Drop the other Salmon Types from the data\n",
    "\n",
    "salmon= salmon_cc=salmonSelectedFeatures.drop(columns=[salmonTypes_List[i] for i in range(0, 4) if i != type_number])\n"
   ]
  },
  {
   "cell_type": "code",
   "execution_count": 25,
   "id": "61748eb5",
   "metadata": {},
   "outputs": [],
   "source": [
    "scaler = StandardScaler()"
   ]
  },
  {
   "cell_type": "code",
   "execution_count": 26,
   "id": "61167ecf",
   "metadata": {},
   "outputs": [],
   "source": [
    "X=salmon.drop([type_name], axis=1)\n",
    "scaled_data = scaler.fit_transform(X)\n",
    "target = salmon[type_name]"
   ]
  },
  {
   "cell_type": "code",
   "execution_count": 27,
   "id": "81118b3e",
   "metadata": {},
   "outputs": [
    {
     "name": "stdout",
     "output_type": "stream",
     "text": [
      "Lasso Coefficients for Cowichan_Chinook\n"
     ]
    },
    {
     "data": {
      "text/html": [
       "<div>\n",
       "<style scoped>\n",
       "    .dataframe tbody tr th:only-of-type {\n",
       "        vertical-align: middle;\n",
       "    }\n",
       "\n",
       "    .dataframe tbody tr th {\n",
       "        vertical-align: top;\n",
       "    }\n",
       "\n",
       "    .dataframe thead th {\n",
       "        text-align: right;\n",
       "    }\n",
       "</style>\n",
       "<table border=\"1\" class=\"dataframe\">\n",
       "  <thead>\n",
       "    <tr style=\"text-align: right;\">\n",
       "      <th></th>\n",
       "      <th>rc_Chinook</th>\n",
       "      <th>rc_Coho</th>\n",
       "      <th>Seal_sogNt</th>\n",
       "      <th>Whale_NRKW</th>\n",
       "      <th>av_SeaLevels</th>\n",
       "      <th>Av_totalBiomass</th>\n",
       "    </tr>\n",
       "  </thead>\n",
       "  <tbody>\n",
       "    <tr>\n",
       "      <th>alpha = 1e-06</th>\n",
       "      <td>0.002520</td>\n",
       "      <td>-0.000757</td>\n",
       "      <td>-4.565385e-07</td>\n",
       "      <td>0.001330</td>\n",
       "      <td>0.002239</td>\n",
       "      <td>0.002879</td>\n",
       "    </tr>\n",
       "    <tr>\n",
       "      <th>alpha = 1e-05</th>\n",
       "      <td>0.002486</td>\n",
       "      <td>-0.000723</td>\n",
       "      <td>0.000000e+00</td>\n",
       "      <td>0.001325</td>\n",
       "      <td>0.002229</td>\n",
       "      <td>0.002873</td>\n",
       "    </tr>\n",
       "    <tr>\n",
       "      <th>alpha = 0.0001</th>\n",
       "      <td>0.002157</td>\n",
       "      <td>-0.000392</td>\n",
       "      <td>0.000000e+00</td>\n",
       "      <td>0.001283</td>\n",
       "      <td>0.002133</td>\n",
       "      <td>0.002812</td>\n",
       "    </tr>\n",
       "    <tr>\n",
       "      <th>alpha = 0.00025</th>\n",
       "      <td>0.001705</td>\n",
       "      <td>-0.000000</td>\n",
       "      <td>0.000000e+00</td>\n",
       "      <td>0.001243</td>\n",
       "      <td>0.001957</td>\n",
       "      <td>0.002663</td>\n",
       "    </tr>\n",
       "    <tr>\n",
       "      <th>alpha = 0.0005</th>\n",
       "      <td>0.001346</td>\n",
       "      <td>-0.000000</td>\n",
       "      <td>0.000000e+00</td>\n",
       "      <td>0.001295</td>\n",
       "      <td>0.001603</td>\n",
       "      <td>0.002226</td>\n",
       "    </tr>\n",
       "    <tr>\n",
       "      <th>alpha = 0.00075</th>\n",
       "      <td>0.000987</td>\n",
       "      <td>0.000000</td>\n",
       "      <td>0.000000e+00</td>\n",
       "      <td>0.001348</td>\n",
       "      <td>0.001248</td>\n",
       "      <td>0.001789</td>\n",
       "    </tr>\n",
       "    <tr>\n",
       "      <th>alpha = 0.001</th>\n",
       "      <td>0.000628</td>\n",
       "      <td>0.000000</td>\n",
       "      <td>0.000000e+00</td>\n",
       "      <td>0.001400</td>\n",
       "      <td>0.000893</td>\n",
       "      <td>0.001352</td>\n",
       "    </tr>\n",
       "    <tr>\n",
       "      <th>alpha = 0.0025</th>\n",
       "      <td>0.000000</td>\n",
       "      <td>0.000000</td>\n",
       "      <td>0.000000e+00</td>\n",
       "      <td>0.000597</td>\n",
       "      <td>0.000000</td>\n",
       "      <td>0.000000</td>\n",
       "    </tr>\n",
       "    <tr>\n",
       "      <th>alpha = 0.005</th>\n",
       "      <td>0.000000</td>\n",
       "      <td>0.000000</td>\n",
       "      <td>0.000000e+00</td>\n",
       "      <td>0.000000</td>\n",
       "      <td>0.000000</td>\n",
       "      <td>0.000000</td>\n",
       "    </tr>\n",
       "    <tr>\n",
       "      <th>alpha = 0.01</th>\n",
       "      <td>0.000000</td>\n",
       "      <td>0.000000</td>\n",
       "      <td>0.000000e+00</td>\n",
       "      <td>0.000000</td>\n",
       "      <td>0.000000</td>\n",
       "      <td>0.000000</td>\n",
       "    </tr>\n",
       "  </tbody>\n",
       "</table>\n",
       "</div>"
      ],
      "text/plain": [
       "                 rc_Chinook   rc_Coho    Seal_sogNt  Whale_NRKW  av_SeaLevels  \\\n",
       "alpha = 1e-06      0.002520 -0.000757 -4.565385e-07    0.001330      0.002239   \n",
       "alpha = 1e-05      0.002486 -0.000723  0.000000e+00    0.001325      0.002229   \n",
       "alpha = 0.0001     0.002157 -0.000392  0.000000e+00    0.001283      0.002133   \n",
       "alpha = 0.00025    0.001705 -0.000000  0.000000e+00    0.001243      0.001957   \n",
       "alpha = 0.0005     0.001346 -0.000000  0.000000e+00    0.001295      0.001603   \n",
       "alpha = 0.00075    0.000987  0.000000  0.000000e+00    0.001348      0.001248   \n",
       "alpha = 0.001      0.000628  0.000000  0.000000e+00    0.001400      0.000893   \n",
       "alpha = 0.0025     0.000000  0.000000  0.000000e+00    0.000597      0.000000   \n",
       "alpha = 0.005      0.000000  0.000000  0.000000e+00    0.000000      0.000000   \n",
       "alpha = 0.01       0.000000  0.000000  0.000000e+00    0.000000      0.000000   \n",
       "\n",
       "                 Av_totalBiomass  \n",
       "alpha = 1e-06           0.002879  \n",
       "alpha = 1e-05           0.002873  \n",
       "alpha = 0.0001          0.002812  \n",
       "alpha = 0.00025         0.002663  \n",
       "alpha = 0.0005          0.002226  \n",
       "alpha = 0.00075         0.001789  \n",
       "alpha = 0.001           0.001352  \n",
       "alpha = 0.0025          0.000000  \n",
       "alpha = 0.005           0.000000  \n",
       "alpha = 0.01            0.000000  "
      ]
     },
     "metadata": {},
     "output_type": "display_data"
    },
    {
     "name": "stdout",
     "output_type": "stream",
     "text": [
      "The non-zero features are:\n",
      "for 1e-06 :  ['rc_Chinook', 'rc_Coho', 'Seal_sogNt', 'Whale_NRKW', 'av_SeaLevels', 'Av_totalBiomass'] with length  6\n",
      "for 1e-05 :  ['rc_Chinook', 'rc_Coho', 'Whale_NRKW', 'av_SeaLevels', 'Av_totalBiomass'] with length  5\n",
      "for 0.0001 :  ['rc_Chinook', 'rc_Coho', 'Whale_NRKW', 'av_SeaLevels', 'Av_totalBiomass'] with length  5\n",
      "for 0.00025 :  ['rc_Chinook', 'Whale_NRKW', 'av_SeaLevels', 'Av_totalBiomass'] with length  4\n",
      "for 0.0005 :  ['rc_Chinook', 'Whale_NRKW', 'av_SeaLevels', 'Av_totalBiomass'] with length  4\n",
      "for 0.00075 :  ['rc_Chinook', 'Whale_NRKW', 'av_SeaLevels', 'Av_totalBiomass'] with length  4\n",
      "for 0.001 :  ['rc_Chinook', 'Whale_NRKW', 'av_SeaLevels', 'Av_totalBiomass'] with length  4\n",
      "for 0.0025 :  ['Whale_NRKW'] with length  1\n",
      "for 0.005 :  [] with length  0\n",
      "for 0.01 :  [] with length  0\n"
     ]
    }
   ],
   "source": [
    "#Several Lasso fittings for different alpha values\n",
    "\n",
    "alphas = [0.000001, 0.00001, 0.0001, 0.00025, 0.0005, 0.00075, 0.001, 0.0025, 0.005, 0.01]\n",
    "\n",
    "coefs = np.zeros((len(alphas), len(X.columns)))\n",
    "\n",
    "for i,alpha in enumerate(alphas):\n",
    "    lasso = Lasso(alpha = alpha, max_iter = 1000000)\n",
    "    lasso.fit(scaled_data, target)\n",
    "    \n",
    "    coefs[i, :] = lasso.coef_\n",
    "    \n",
    "lassoCoefs = pd.DataFrame(coefs, \n",
    "                index=[\"alpha = \" + str(alpha) for alpha in alphas],\n",
    "                columns=[col for col in X.columns])\n",
    "\n",
    "##Display the coefficients\n",
    "###and display the features that produces non-zero coefficient\n",
    "print('Lasso Coefficients for', type_name)\n",
    "display(lassoCoefs)\n",
    "print(\"The non-zero features are:\")\n",
    "for alpha in alphas:\n",
    "    alpha_selected=alpha\n",
    "    selected_row = lassoCoefs.loc[\"alpha = \" + str(alpha_selected)]\n",
    "    lasso_model_alpha =selected_row[selected_row != 0].index.tolist()\n",
    "    print('for', alpha_selected, ': ', lasso_model_alpha, 'with length ', len(lasso_model_alpha))"
   ]
  },
  {
   "cell_type": "markdown",
   "id": "5562dfc6",
   "metadata": {},
   "source": [
    "### Conclusion (of Lasso for Cowichan Chinook)"
   ]
  },
  {
   "cell_type": "code",
   "execution_count": 28,
   "id": "0947d03d",
   "metadata": {},
   "outputs": [],
   "source": [
    "#Adapt according to the table found\n",
    "\n",
    "alpha_selected=0.001"
   ]
  },
  {
   "cell_type": "code",
   "execution_count": 29,
   "id": "c5166d2a",
   "metadata": {},
   "outputs": [
    {
     "data": {
      "text/plain": [
       "['rc_Chinook', 'Whale_NRKW', 'av_SeaLevels', 'Av_totalBiomass']"
      ]
     },
     "execution_count": 29,
     "metadata": {},
     "output_type": "execute_result"
    }
   ],
   "source": [
    "#Look at a particular row (depends on alpha value )\n",
    "# Make a list of the columns where coefficients are non-zero\n",
    "\n",
    "selected_row = lassoCoefs.loc[\"alpha = \" + str(alpha_selected)]\n",
    "lasso_model =selected_row[selected_row != 0].index.tolist()\n",
    "\n",
    "lasso_model"
   ]
  },
  {
   "cell_type": "code",
   "execution_count": 30,
   "id": "6a44e07c",
   "metadata": {
    "scrolled": false
   },
   "outputs": [
    {
     "name": "stdout",
     "output_type": "stream",
     "text": [
      "According to Lasso analysis, the features ['rc_Chinook', 'Whale_NRKW', 'av_SeaLevels', 'Av_totalBiomass'] have more importance for  Cowichan_Chinook viability.\n"
     ]
    }
   ],
   "source": [
    "#Print the conclusion\n",
    "print(\"According to Lasso analysis, the features\", lasso_model, 'have more importance for ', type_name, 'viability.')"
   ]
  },
  {
   "cell_type": "markdown",
   "id": "00f3f6f2",
   "metadata": {},
   "source": [
    "## Lasso for Big Qualicum Coho"
   ]
  },
  {
   "cell_type": "code",
   "execution_count": 31,
   "id": "51a3a6a3",
   "metadata": {},
   "outputs": [],
   "source": [
    "#For different Salmon type adapt the type_number\n",
    "    ##Different Salmon type might need different alphas\n",
    "\n",
    "type_number=bqc\n",
    "type_name=salmonTypes_List[type_number]"
   ]
  },
  {
   "cell_type": "code",
   "execution_count": 32,
   "id": "ae55343b",
   "metadata": {},
   "outputs": [],
   "source": [
    "#Drop the other Salmon Types from the data\n",
    "\n",
    "salmon= salmonSelectedFeatures.drop(columns=[salmonTypes_List[i] for i in range(0, 4) if i != type_number])\n"
   ]
  },
  {
   "cell_type": "code",
   "execution_count": 33,
   "id": "ec44889e",
   "metadata": {},
   "outputs": [],
   "source": [
    "scaler = StandardScaler()"
   ]
  },
  {
   "cell_type": "code",
   "execution_count": 34,
   "id": "6768a4dc",
   "metadata": {},
   "outputs": [],
   "source": [
    "X=salmon.drop([type_name], axis=1)\n",
    "scaled_data = scaler.fit_transform(X)\n",
    "target = salmon[type_name]"
   ]
  },
  {
   "cell_type": "code",
   "execution_count": 35,
   "id": "01de6bee",
   "metadata": {},
   "outputs": [
    {
     "name": "stdout",
     "output_type": "stream",
     "text": [
      "Lasso Coefficients for Big_Qualicum_Coho\n"
     ]
    },
    {
     "data": {
      "text/html": [
       "<div>\n",
       "<style scoped>\n",
       "    .dataframe tbody tr th:only-of-type {\n",
       "        vertical-align: middle;\n",
       "    }\n",
       "\n",
       "    .dataframe tbody tr th {\n",
       "        vertical-align: top;\n",
       "    }\n",
       "\n",
       "    .dataframe thead th {\n",
       "        text-align: right;\n",
       "    }\n",
       "</style>\n",
       "<table border=\"1\" class=\"dataframe\">\n",
       "  <thead>\n",
       "    <tr style=\"text-align: right;\">\n",
       "      <th></th>\n",
       "      <th>rc_Chinook</th>\n",
       "      <th>rc_Coho</th>\n",
       "      <th>Seal_sogNt</th>\n",
       "      <th>Whale_NRKW</th>\n",
       "      <th>av_SeaLevels</th>\n",
       "      <th>Av_totalBiomass</th>\n",
       "    </tr>\n",
       "  </thead>\n",
       "  <tbody>\n",
       "    <tr>\n",
       "      <th>alpha = 1e-06</th>\n",
       "      <td>0.000892</td>\n",
       "      <td>0.001502</td>\n",
       "      <td>0.002291</td>\n",
       "      <td>-0.001525</td>\n",
       "      <td>0.002545</td>\n",
       "      <td>0.002429</td>\n",
       "    </tr>\n",
       "    <tr>\n",
       "      <th>alpha = 1e-05</th>\n",
       "      <td>0.000898</td>\n",
       "      <td>0.001461</td>\n",
       "      <td>0.002258</td>\n",
       "      <td>-0.001484</td>\n",
       "      <td>0.002503</td>\n",
       "      <td>0.002394</td>\n",
       "    </tr>\n",
       "    <tr>\n",
       "      <th>alpha = 0.0001</th>\n",
       "      <td>0.000955</td>\n",
       "      <td>0.001053</td>\n",
       "      <td>0.001930</td>\n",
       "      <td>-0.001071</td>\n",
       "      <td>0.002087</td>\n",
       "      <td>0.002039</td>\n",
       "    </tr>\n",
       "    <tr>\n",
       "      <th>alpha = 0.00025</th>\n",
       "      <td>0.001051</td>\n",
       "      <td>0.000374</td>\n",
       "      <td>0.001384</td>\n",
       "      <td>-0.000381</td>\n",
       "      <td>0.001394</td>\n",
       "      <td>0.001448</td>\n",
       "    </tr>\n",
       "    <tr>\n",
       "      <th>alpha = 0.0005</th>\n",
       "      <td>0.000957</td>\n",
       "      <td>0.000000</td>\n",
       "      <td>0.000813</td>\n",
       "      <td>-0.000000</td>\n",
       "      <td>0.000653</td>\n",
       "      <td>0.000877</td>\n",
       "    </tr>\n",
       "    <tr>\n",
       "      <th>alpha = 0.00075</th>\n",
       "      <td>0.000739</td>\n",
       "      <td>0.000000</td>\n",
       "      <td>0.000411</td>\n",
       "      <td>0.000000</td>\n",
       "      <td>0.000118</td>\n",
       "      <td>0.000511</td>\n",
       "    </tr>\n",
       "    <tr>\n",
       "      <th>alpha = 0.001</th>\n",
       "      <td>0.000464</td>\n",
       "      <td>0.000000</td>\n",
       "      <td>0.000222</td>\n",
       "      <td>0.000000</td>\n",
       "      <td>0.000000</td>\n",
       "      <td>0.000198</td>\n",
       "    </tr>\n",
       "    <tr>\n",
       "      <th>alpha = 0.0025</th>\n",
       "      <td>0.000000</td>\n",
       "      <td>0.000000</td>\n",
       "      <td>0.000000</td>\n",
       "      <td>0.000000</td>\n",
       "      <td>0.000000</td>\n",
       "      <td>0.000000</td>\n",
       "    </tr>\n",
       "    <tr>\n",
       "      <th>alpha = 0.005</th>\n",
       "      <td>0.000000</td>\n",
       "      <td>0.000000</td>\n",
       "      <td>0.000000</td>\n",
       "      <td>0.000000</td>\n",
       "      <td>0.000000</td>\n",
       "      <td>0.000000</td>\n",
       "    </tr>\n",
       "    <tr>\n",
       "      <th>alpha = 0.01</th>\n",
       "      <td>0.000000</td>\n",
       "      <td>0.000000</td>\n",
       "      <td>0.000000</td>\n",
       "      <td>0.000000</td>\n",
       "      <td>0.000000</td>\n",
       "      <td>0.000000</td>\n",
       "    </tr>\n",
       "  </tbody>\n",
       "</table>\n",
       "</div>"
      ],
      "text/plain": [
       "                 rc_Chinook   rc_Coho  Seal_sogNt  Whale_NRKW  av_SeaLevels  \\\n",
       "alpha = 1e-06      0.000892  0.001502    0.002291   -0.001525      0.002545   \n",
       "alpha = 1e-05      0.000898  0.001461    0.002258   -0.001484      0.002503   \n",
       "alpha = 0.0001     0.000955  0.001053    0.001930   -0.001071      0.002087   \n",
       "alpha = 0.00025    0.001051  0.000374    0.001384   -0.000381      0.001394   \n",
       "alpha = 0.0005     0.000957  0.000000    0.000813   -0.000000      0.000653   \n",
       "alpha = 0.00075    0.000739  0.000000    0.000411    0.000000      0.000118   \n",
       "alpha = 0.001      0.000464  0.000000    0.000222    0.000000      0.000000   \n",
       "alpha = 0.0025     0.000000  0.000000    0.000000    0.000000      0.000000   \n",
       "alpha = 0.005      0.000000  0.000000    0.000000    0.000000      0.000000   \n",
       "alpha = 0.01       0.000000  0.000000    0.000000    0.000000      0.000000   \n",
       "\n",
       "                 Av_totalBiomass  \n",
       "alpha = 1e-06           0.002429  \n",
       "alpha = 1e-05           0.002394  \n",
       "alpha = 0.0001          0.002039  \n",
       "alpha = 0.00025         0.001448  \n",
       "alpha = 0.0005          0.000877  \n",
       "alpha = 0.00075         0.000511  \n",
       "alpha = 0.001           0.000198  \n",
       "alpha = 0.0025          0.000000  \n",
       "alpha = 0.005           0.000000  \n",
       "alpha = 0.01            0.000000  "
      ]
     },
     "metadata": {},
     "output_type": "display_data"
    },
    {
     "name": "stdout",
     "output_type": "stream",
     "text": [
      "The non-zero features are:\n",
      "for 1e-06 :  ['rc_Chinook', 'rc_Coho', 'Seal_sogNt', 'Whale_NRKW', 'av_SeaLevels', 'Av_totalBiomass'] with length  6\n",
      "for 1e-05 :  ['rc_Chinook', 'rc_Coho', 'Seal_sogNt', 'Whale_NRKW', 'av_SeaLevels', 'Av_totalBiomass'] with length  6\n",
      "for 0.0001 :  ['rc_Chinook', 'rc_Coho', 'Seal_sogNt', 'Whale_NRKW', 'av_SeaLevels', 'Av_totalBiomass'] with length  6\n",
      "for 0.00025 :  ['rc_Chinook', 'rc_Coho', 'Seal_sogNt', 'Whale_NRKW', 'av_SeaLevels', 'Av_totalBiomass'] with length  6\n",
      "for 0.0005 :  ['rc_Chinook', 'Seal_sogNt', 'av_SeaLevels', 'Av_totalBiomass'] with length  4\n",
      "for 0.00075 :  ['rc_Chinook', 'Seal_sogNt', 'av_SeaLevels', 'Av_totalBiomass'] with length  4\n",
      "for 0.001 :  ['rc_Chinook', 'Seal_sogNt', 'Av_totalBiomass'] with length  3\n",
      "for 0.0025 :  [] with length  0\n",
      "for 0.005 :  [] with length  0\n",
      "for 0.01 :  [] with length  0\n"
     ]
    }
   ],
   "source": [
    "#Several Lasso fittings for different alpha values\n",
    "\n",
    "alphas = [0.000001, 0.00001, 0.0001, 0.00025, 0.0005, 0.00075, 0.001, 0.0025, 0.005, 0.01]\n",
    "\n",
    "coefs = np.zeros((len(alphas), len(X.columns)))\n",
    "\n",
    "for i,alpha in enumerate(alphas):\n",
    "    lasso = Lasso(alpha = alpha, max_iter = 1000000)\n",
    "    lasso.fit(scaled_data, target)\n",
    "    \n",
    "    coefs[i, :] = lasso.coef_\n",
    "    \n",
    "lassoCoefs = pd.DataFrame(coefs, \n",
    "                index=[\"alpha = \" + str(alpha) for alpha in alphas],\n",
    "                columns=[col for col in X.columns])\n",
    "\n",
    "##Display the coefficients\n",
    "###and display the features that produces non-zero coefficient\n",
    "print('Lasso Coefficients for', type_name)\n",
    "display(lassoCoefs)\n",
    "print(\"The non-zero features are:\")\n",
    "for alpha in alphas:\n",
    "    alpha_selected=alpha\n",
    "    selected_row = lassoCoefs.loc[\"alpha = \" + str(alpha_selected)]\n",
    "    lasso_model_alpha =selected_row[selected_row != 0].index.tolist()\n",
    "    print('for', alpha_selected, ': ', lasso_model_alpha, 'with length ', len(lasso_model_alpha))"
   ]
  },
  {
   "cell_type": "markdown",
   "id": "f0897f17",
   "metadata": {},
   "source": [
    "### Conclusion (of Lasso for Coho)"
   ]
  },
  {
   "cell_type": "code",
   "execution_count": 36,
   "id": "01cdcf6b",
   "metadata": {},
   "outputs": [],
   "source": [
    "#Adapt according to the table found\n",
    "\n",
    "alpha_selected=0.001\n"
   ]
  },
  {
   "cell_type": "code",
   "execution_count": 37,
   "id": "5733d350",
   "metadata": {},
   "outputs": [],
   "source": [
    "#Look at a particular row (given by the selected alpha value )\n",
    "# Make a list of the columns where coefficients are non-zero\n",
    "\n",
    "selected_row = lassoCoefs.loc[\"alpha = \" + str(alpha_selected)]\n",
    "lasso_model =selected_row[selected_row != 0].index.tolist()\n"
   ]
  },
  {
   "cell_type": "code",
   "execution_count": 38,
   "id": "0a589109",
   "metadata": {
    "scrolled": false
   },
   "outputs": [
    {
     "name": "stdout",
     "output_type": "stream",
     "text": [
      "According to Lasso analysis, the features ['rc_Chinook', 'Seal_sogNt', 'Av_totalBiomass'] have more importance for  Big_Qualicum_Coho viability.\n"
     ]
    }
   ],
   "source": [
    "#Print the conclusion\n",
    "print(\"According to Lasso analysis, the features\", lasso_model, 'have more importance for ', type_name, 'viability.')"
   ]
  },
  {
   "cell_type": "code",
   "execution_count": null,
   "id": "e428c095",
   "metadata": {},
   "outputs": [],
   "source": []
  },
  {
   "cell_type": "markdown",
   "id": "1e9740f5",
   "metadata": {},
   "source": [
    "## Ridge for Cowichan Chinook"
   ]
  },
  {
   "cell_type": "code",
   "execution_count": 39,
   "id": "afc574bf",
   "metadata": {},
   "outputs": [],
   "source": [
    "#For different Salmon type adapt the type_number\n",
    "    ##Different Salmon type might need different alphas\n",
    "\n",
    "type_number=cc\n",
    "type_name=salmonTypes_List[type_number]"
   ]
  },
  {
   "cell_type": "code",
   "execution_count": 40,
   "id": "79dca604",
   "metadata": {},
   "outputs": [],
   "source": [
    "#Drop the other Salmon Types from the data\n",
    "\n",
    "salmon= salmon_cc=salmonSelectedFeatures.drop(columns=[salmonTypes_List[i] for i in range(0, 4) if i != type_number])\n"
   ]
  },
  {
   "cell_type": "code",
   "execution_count": 41,
   "id": "4f3b4503",
   "metadata": {},
   "outputs": [],
   "source": [
    "scaler = StandardScaler()"
   ]
  },
  {
   "cell_type": "code",
   "execution_count": 42,
   "id": "22662037",
   "metadata": {},
   "outputs": [],
   "source": [
    "X=salmon.drop([type_name], axis=1)\n",
    "scaled_data = scaler.fit_transform(X)\n",
    "target = salmon[type_name]"
   ]
  },
  {
   "cell_type": "code",
   "execution_count": null,
   "id": "33d19000",
   "metadata": {},
   "outputs": [],
   "source": []
  },
  {
   "cell_type": "code",
   "execution_count": 43,
   "id": "1d2a62c9",
   "metadata": {
    "scrolled": true
   },
   "outputs": [
    {
     "name": "stdout",
     "output_type": "stream",
     "text": [
      "Ridge Coefficients for Cowichan_Chinook\n"
     ]
    },
    {
     "data": {
      "text/html": [
       "<div>\n",
       "<style scoped>\n",
       "    .dataframe tbody tr th:only-of-type {\n",
       "        vertical-align: middle;\n",
       "    }\n",
       "\n",
       "    .dataframe tbody tr th {\n",
       "        vertical-align: top;\n",
       "    }\n",
       "\n",
       "    .dataframe thead th {\n",
       "        text-align: right;\n",
       "    }\n",
       "</style>\n",
       "<table border=\"1\" class=\"dataframe\">\n",
       "  <thead>\n",
       "    <tr style=\"text-align: right;\">\n",
       "      <th></th>\n",
       "      <th>rc_Chinook</th>\n",
       "      <th>rc_Coho</th>\n",
       "      <th>Seal_sogNt</th>\n",
       "      <th>Whale_NRKW</th>\n",
       "      <th>av_SeaLevels</th>\n",
       "      <th>Av_totalBiomass</th>\n",
       "    </tr>\n",
       "  </thead>\n",
       "  <tbody>\n",
       "    <tr>\n",
       "      <th>alpha = 1e-20</th>\n",
       "      <td>2.524664e-03</td>\n",
       "      <td>-7.617630e-04</td>\n",
       "      <td>-3.372833e-06</td>\n",
       "      <td>1.330848e-03</td>\n",
       "      <td>2.238032e-03</td>\n",
       "      <td>2.879024e-03</td>\n",
       "    </tr>\n",
       "    <tr>\n",
       "      <th>alpha = 1e-16</th>\n",
       "      <td>2.524664e-03</td>\n",
       "      <td>-7.617630e-04</td>\n",
       "      <td>-3.372833e-06</td>\n",
       "      <td>1.330848e-03</td>\n",
       "      <td>2.238032e-03</td>\n",
       "      <td>2.879024e-03</td>\n",
       "    </tr>\n",
       "    <tr>\n",
       "      <th>alpha = 1e-12</th>\n",
       "      <td>2.524664e-03</td>\n",
       "      <td>-7.617630e-04</td>\n",
       "      <td>-3.372833e-06</td>\n",
       "      <td>1.330848e-03</td>\n",
       "      <td>2.238032e-03</td>\n",
       "      <td>2.879024e-03</td>\n",
       "    </tr>\n",
       "    <tr>\n",
       "      <th>alpha = 1e-08</th>\n",
       "      <td>2.524664e-03</td>\n",
       "      <td>-7.617630e-04</td>\n",
       "      <td>-3.372832e-06</td>\n",
       "      <td>1.330848e-03</td>\n",
       "      <td>2.238032e-03</td>\n",
       "      <td>2.879024e-03</td>\n",
       "    </tr>\n",
       "    <tr>\n",
       "      <th>alpha = 0.0001</th>\n",
       "      <td>2.524614e-03</td>\n",
       "      <td>-7.617332e-04</td>\n",
       "      <td>-3.365775e-06</td>\n",
       "      <td>1.330858e-03</td>\n",
       "      <td>2.238013e-03</td>\n",
       "      <td>2.878996e-03</td>\n",
       "    </tr>\n",
       "    <tr>\n",
       "      <th>alpha = 1</th>\n",
       "      <td>2.128009e-03</td>\n",
       "      <td>-5.414382e-04</td>\n",
       "      <td>3.885144e-05</td>\n",
       "      <td>1.401464e-03</td>\n",
       "      <td>2.051506e-03</td>\n",
       "      <td>2.623058e-03</td>\n",
       "    </tr>\n",
       "    <tr>\n",
       "      <th>alpha = 10000</th>\n",
       "      <td>2.863802e-06</td>\n",
       "      <td>9.056044e-07</td>\n",
       "      <td>3.185436e-07</td>\n",
       "      <td>4.634414e-06</td>\n",
       "      <td>2.805185e-06</td>\n",
       "      <td>3.350852e-06</td>\n",
       "    </tr>\n",
       "    <tr>\n",
       "      <th>alpha = 100000000</th>\n",
       "      <td>2.871035e-10</td>\n",
       "      <td>9.108989e-11</td>\n",
       "      <td>3.197834e-11</td>\n",
       "      <td>4.645488e-10</td>\n",
       "      <td>2.809607e-10</td>\n",
       "      <td>3.354651e-10</td>\n",
       "    </tr>\n",
       "    <tr>\n",
       "      <th>alpha = 1000000000000</th>\n",
       "      <td>2.871035e-14</td>\n",
       "      <td>9.108994e-15</td>\n",
       "      <td>3.197835e-15</td>\n",
       "      <td>4.645489e-14</td>\n",
       "      <td>2.809608e-14</td>\n",
       "      <td>3.354652e-14</td>\n",
       "    </tr>\n",
       "    <tr>\n",
       "      <th>alpha = 10000000000000000</th>\n",
       "      <td>2.871035e-18</td>\n",
       "      <td>9.108994e-19</td>\n",
       "      <td>3.197835e-19</td>\n",
       "      <td>4.645489e-18</td>\n",
       "      <td>2.809608e-18</td>\n",
       "      <td>3.354652e-18</td>\n",
       "    </tr>\n",
       "  </tbody>\n",
       "</table>\n",
       "</div>"
      ],
      "text/plain": [
       "                             rc_Chinook       rc_Coho    Seal_sogNt  \\\n",
       "alpha = 1e-20              2.524664e-03 -7.617630e-04 -3.372833e-06   \n",
       "alpha = 1e-16              2.524664e-03 -7.617630e-04 -3.372833e-06   \n",
       "alpha = 1e-12              2.524664e-03 -7.617630e-04 -3.372833e-06   \n",
       "alpha = 1e-08              2.524664e-03 -7.617630e-04 -3.372832e-06   \n",
       "alpha = 0.0001             2.524614e-03 -7.617332e-04 -3.365775e-06   \n",
       "alpha = 1                  2.128009e-03 -5.414382e-04  3.885144e-05   \n",
       "alpha = 10000              2.863802e-06  9.056044e-07  3.185436e-07   \n",
       "alpha = 100000000          2.871035e-10  9.108989e-11  3.197834e-11   \n",
       "alpha = 1000000000000      2.871035e-14  9.108994e-15  3.197835e-15   \n",
       "alpha = 10000000000000000  2.871035e-18  9.108994e-19  3.197835e-19   \n",
       "\n",
       "                             Whale_NRKW  av_SeaLevels  Av_totalBiomass  \n",
       "alpha = 1e-20              1.330848e-03  2.238032e-03     2.879024e-03  \n",
       "alpha = 1e-16              1.330848e-03  2.238032e-03     2.879024e-03  \n",
       "alpha = 1e-12              1.330848e-03  2.238032e-03     2.879024e-03  \n",
       "alpha = 1e-08              1.330848e-03  2.238032e-03     2.879024e-03  \n",
       "alpha = 0.0001             1.330858e-03  2.238013e-03     2.878996e-03  \n",
       "alpha = 1                  1.401464e-03  2.051506e-03     2.623058e-03  \n",
       "alpha = 10000              4.634414e-06  2.805185e-06     3.350852e-06  \n",
       "alpha = 100000000          4.645488e-10  2.809607e-10     3.354651e-10  \n",
       "alpha = 1000000000000      4.645489e-14  2.809608e-14     3.354652e-14  \n",
       "alpha = 10000000000000000  4.645489e-18  2.809608e-18     3.354652e-18  "
      ]
     },
     "metadata": {},
     "output_type": "display_data"
    },
    {
     "name": "stdout",
     "output_type": "stream",
     "text": [
      "The max-min features are:\n",
      "for 1e-20  the max coefficients belongs to  rc_Coho and the min coefficients belongs to  Av_totalBiomass\n",
      "for 1e-16  the max coefficients belongs to  rc_Coho and the min coefficients belongs to  Av_totalBiomass\n",
      "for 1e-12  the max coefficients belongs to  rc_Coho and the min coefficients belongs to  Av_totalBiomass\n",
      "for 1e-08  the max coefficients belongs to  rc_Coho and the min coefficients belongs to  Av_totalBiomass\n",
      "for 0.0001  the max coefficients belongs to  rc_Coho and the min coefficients belongs to  Av_totalBiomass\n",
      "for 1  the max coefficients belongs to  rc_Coho and the min coefficients belongs to  Av_totalBiomass\n",
      "for 10000  the max coefficients belongs to  rc_Coho and the min coefficients belongs to  Av_totalBiomass\n",
      "for 100000000  the max coefficients belongs to  rc_Coho and the min coefficients belongs to  Av_totalBiomass\n",
      "for 1000000000000  the max coefficients belongs to  rc_Coho and the min coefficients belongs to  Av_totalBiomass\n",
      "for 10000000000000000  the max coefficients belongs to  rc_Coho and the min coefficients belongs to  Av_totalBiomass\n"
     ]
    }
   ],
   "source": [
    "#Several Ridge fittings for different alpha values\n",
    "\n",
    "alphas =[10**i for i in range(-20, 20, 4)]\n",
    "\n",
    "\n",
    "coefs = np.zeros((len(alphas), len(X.columns)))\n",
    "\n",
    "for i,alpha in enumerate(alphas):\n",
    "    ridge = Ridge(alpha = alpha, max_iter = 1000000)\n",
    "    ridge.fit(scaled_data, target)\n",
    "    \n",
    "    coefs[i, :] = ridge.coef_\n",
    "    \n",
    "ridgeCoefs = pd.DataFrame(coefs, \n",
    "                index=[\"alpha = \" + str(alpha) for alpha in alphas],\n",
    "                columns=[col for col in X.columns])\n",
    "\n",
    "##Display the coefficients\n",
    "###and display the features that produces max-min coefficient\n",
    "print('Ridge Coefficients for', type_name)\n",
    "display(ridgeCoefs)\n",
    "print(\"The max-min features are:\")\n",
    "for alpha in alphas:\n",
    "    alpha_selected=alpha\n",
    "    selected_row = ridgeCoefs.loc[\"alpha = \" + str(alpha_selected)]\n",
    "    ridge_model_alpha =selected_row.index.tolist()\n",
    "    print('for', alpha_selected, ' the max coefficients belongs to ', max(ridge_model_alpha),  'and the min coefficients belongs to ', min(ridge_model_alpha))"
   ]
  },
  {
   "cell_type": "code",
   "execution_count": null,
   "id": "ef8d7b9f",
   "metadata": {},
   "outputs": [],
   "source": []
  }
 ],
 "metadata": {
  "kernelspec": {
   "display_name": "Python 3 (ipykernel)",
   "language": "python",
   "name": "python3"
  },
  "language_info": {
   "codemirror_mode": {
    "name": "ipython",
    "version": 3
   },
   "file_extension": ".py",
   "mimetype": "text/x-python",
   "name": "python",
   "nbconvert_exporter": "python",
   "pygments_lexer": "ipython3",
   "version": "3.11.4"
  }
 },
 "nbformat": 4,
 "nbformat_minor": 5
}
