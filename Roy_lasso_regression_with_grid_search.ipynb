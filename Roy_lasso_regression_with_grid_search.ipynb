{
 "cells": [
  {
   "cell_type": "code",
   "execution_count": 505,
   "id": "e47557fa",
   "metadata": {},
   "outputs": [],
   "source": [
    "import pandas as pd\n",
    "import numpy as np\n",
    "import statsmodels.tsa.api as sm\n",
    "import matplotlib.pyplot as plt\n",
    "from sklearn.metrics import mean_squared_error as mse\n",
    "from sklearn.decomposition import PCA, FactorAnalysis\n",
    "from sklearn.preprocessing import StandardScaler\n",
    "from scipy import special\n",
    "from scipy import stats\n",
    "from sklearn.linear_model import LinearRegression, Ridge, RidgeCV, Lasso, LassoCV\n",
    "from sklearn.metrics import mean_squared_error as mse\n",
    "from sklearn.model_selection import cross_val_score\n",
    "from itertools import combinations as combs\n",
    "from sklearn.linear_model import Ridge, Lasso\n",
    "from statsmodels.tsa.arima.model import ARIMA\n",
    "import matplotlib.pyplot as plt\n",
    "from matplotlib import rc\n",
    "from sklearn.model_selection import KFold, RepeatedKFold, GridSearchCV, cross_validate, train_test_split\n",
    "plt.rcParams[\"font.family\"] = \"Times New Roman\""
   ]
  },
  {
   "cell_type": "code",
   "execution_count": 506,
   "id": "9f76f40d",
   "metadata": {},
   "outputs": [],
   "source": [
    "def normalize_arr(arr):\n",
    "    mean = np.nanmean(arr)\n",
    "    std = np.nanstd(arr)\n",
    "    nrm = (arr-mean)/std\n",
    "    return nrm\n",
    "    \n",
    "def yearly_avg_over_months(yr_arr,arr):\n",
    "    n_yr = np.unique(yr_arr)\n",
    "    avg_val = []\n",
    "    for i in range(len(n_yr)):\n",
    "        avg_val.append(np.nanmean(arr[i*12:(i+1)*12]))\n",
    "    return np.stack((n_yr,avg_val),axis = 1)\n",
    "\n",
    "def arr_loc(arr,val):\n",
    "    index = 0\n",
    "    for i in range(len(arr)):\n",
    "        index = i\n",
    "        if int(arr[i]) == int(val):\n",
    "            break\n",
    "           \n",
    "    return index"
   ]
  },
  {
   "cell_type": "markdown",
   "id": "cf5772fa",
   "metadata": {},
   "source": [
    "## Generate dataframe for input variables/features in the range 1996-2012\n",
    "\n",
    "###  Varibales considered - (1) Total Biomass availability,  (2) Total biomass anomaly,   (3) Sea level,   (4) Salinity,  (5) PDO,  (6) Sea Surface Temperature,  (7) Avg Fraser river flow,  (8) Killer whale,  (9) Seal population, (10) Recreational catches"
   ]
  },
  {
   "cell_type": "code",
   "execution_count": 507,
   "id": "f45f5975",
   "metadata": {},
   "outputs": [],
   "source": [
    "start_date = 1997\n",
    "end_date = 2012\n",
    "\n",
    "# Reading the data_files\n",
    "#(1) read zooplankton total biomass data\n",
    "Biomass_file = pd.read_excel('Data/ZooPlanktonPerryData.xlsx','1. Zooplankton Biomass data') \n",
    "\n",
    "#(2) read zooplankton anomaly data\n",
    "Biomass_anamoly_file = pd.read_excel('Data/ZooPlanktonPerryData.xlsx','3. Zooplankton anomalies')  \n",
    "\n",
    "#(3) read sea level data\n",
    "Sl_file_campbell = pd.read_excel('Pred_env_data/SeaLevel_Campbell_River1323.xlsx',header=None)\n",
    "Sl_file_cherry = pd.read_excel('Pred_env_data/SeaLevel_Cherry_annualMean.xlsx',header=None)\n",
    "Sl_file_atkinson = pd.read_excel('Pred_env_data/SeaLevel_Point_Atkinson193.xlsx',header=None)\n",
    "Sl_file_angeles = pd.read_excel('Pred_env_data/SeaLevel_Port_Angeles2127.xlsx',header=None)\n",
    "\n",
    "#(4) read sea salinity data\n",
    "Salinity_file = pd.read_excel('Pred_env_data/Entrance_island_salinity.xlsx') \n",
    "\n",
    "#(5) read Pacific decadal oscillation(PDO) data\n",
    "Pdo_file = pd.read_excel('Pred_env_data/pdo.xlsx','pdo')  \n",
    "\n",
    "#(6) read sea surface temperature\n",
    "SST_file = pd.read_excel('Pred_env_data/SST_data.xlsx', 'SST data')  \n",
    "\n",
    "#(7) read Fraser river flow data\n",
    "Flow_rate_file = pd.read_excel('Pred_env_data/Fraser_flow_rate.xlsx','Flow rate')  \n",
    "\n",
    "#(8) read Killer Whale data\n",
    "Whale_file = pd.read_excel('Pred_env_data/killerwhales_1970to2020.xlsx','killerwhales_1970to2020') \n",
    "\n",
    "#(9) read harbour seal population data\n",
    "Seal_file = pd.read_excel('Pred_env_data/harbourseals_1970to2020.xlsx','harbourseals_1970to2020')  \n",
    "\n",
    "#(10) read recreational catch data\n",
    "RC_file = pd.read_excel('Pred_env_data/Recreational_catches_cleaned_SOG_1953_2012.xlsx')  \n"
   ]
  },
  {
   "cell_type": "markdown",
   "id": "8ed00732",
   "metadata": {},
   "source": [
    "## Selecting dataframes in the range 1996-2012\n",
    "We will replace nan values with a simple imputer(mean) method. Note to Sean, Aycin, Andrew - Do we need to use\n",
    "multivariate/iterative imputer for this, or a simple mean imputation should be sufficient?"
   ]
  },
  {
   "cell_type": "markdown",
   "id": "3d70a02a",
   "metadata": {},
   "source": [
    "## Feeding variables\n",
    "\n",
    "Biomass, biomass anomaly"
   ]
  },
  {
   "cell_type": "code",
   "execution_count": 508,
   "id": "fab801fe",
   "metadata": {},
   "outputs": [
    {
     "name": "stdout",
     "output_type": "stream",
     "text": [
      "    Year  Total Biomass  Total Biomass anomaly\n",
      "0   1997      71.212723               0.100896\n",
      "1   1998     105.522363               0.310248\n",
      "2   1999     156.692799               0.271163\n",
      "3   2000     130.563055               0.186406\n",
      "4   2001     102.394193               0.112293\n",
      "5   2002      71.626773               0.048593\n",
      "6   2003      61.066670              -0.102757\n",
      "7   2004      39.438141              -0.179500\n",
      "8   2005      21.697433              -0.260425\n",
      "9   2006      58.623723              -0.088966\n",
      "10  2007      48.614769              -0.153116\n",
      "11  2008     151.181537              -0.022051\n",
      "12  2009     148.035048              -0.043890\n",
      "13  2010     121.507428               0.003037\n",
      "14  2011     108.806579               0.240546\n",
      "15  2012      76.453393               0.112064\n"
     ]
    }
   ],
   "source": [
    "df_biomass = Biomass_file.loc[(Biomass_file['yr'] >= start_date) & (Biomass_file['yr'] <= end_date)]\n",
    "df_biom_anom = Biomass_anamoly_file.loc[(Biomass_anamoly_file['Year'] >= start_date) & (Biomass_anamoly_file['Year'] <= end_date)]\n",
    "\n",
    "#We will only work with total biomass and total biomass anomaly here\n",
    "\n",
    "df_biomass_clean = pd.DataFrame({'Year':df_biomass['yr'],'Total Biomass':df_biomass['Total.Biomass']})\n",
    "df_biom_anom_clean = pd.DataFrame({'Year':df_biom_anom['Year'],'Total Biomass anomaly':df_biom_anom['TotBiom']})\n",
    "\n",
    "df_biomass_clean = df_biomass_clean.groupby(['Year']).mean()\n",
    "\n",
    "df_feeding_factors = pd.merge(df_biomass_clean,df_biom_anom_clean, on = 'Year',how = 'outer')\n",
    "#print(df_biomass_clean)\n",
    "#print(df_biom_anom_clean)\n",
    "print(df_feeding_factors)"
   ]
  },
  {
   "cell_type": "markdown",
   "id": "5d7ec246",
   "metadata": {},
   "source": [
    "# Environmental variables"
   ]
  },
  {
   "cell_type": "markdown",
   "id": "70589b85",
   "metadata": {},
   "source": [
    "Sea Salinity"
   ]
  },
  {
   "cell_type": "code",
   "execution_count": 509,
   "id": "4aa371ff",
   "metadata": {},
   "outputs": [
    {
     "name": "stdout",
     "output_type": "stream",
     "text": [
      "    Year  Avg Sea Salinity\n",
      "0   1997         25.359167\n",
      "1   1998         27.243333\n",
      "2   1999         26.195833\n",
      "3   2000         27.405833\n",
      "4   2001         28.385000\n",
      "5   2002         27.663333\n",
      "6   2003         27.967273\n",
      "7   2004         27.438333\n",
      "8   2005         27.265000\n",
      "9   2006         28.180833\n",
      "10  2007         26.918333\n",
      "11  2008         27.835833\n",
      "12  2009         27.345000\n",
      "13  2010         26.639167\n",
      "14  2011         24.715455\n",
      "15  2012         25.620833\n"
     ]
    }
   ],
   "source": [
    "#Sea salinity is provided monthly, we will calculate yearly average. Also, nonexistent data is marked by -999.99\n",
    "\n",
    "df_salinity = Salinity_file.replace(999.99,np.nan)\n",
    "df_salinity_yr = df_salinity['YEAR']\n",
    "df_salinity_val = df_salinity.drop(['YEAR'],axis=1).mean(axis = 1)\n",
    "df_sea_salinity = pd.DataFrame({'Year':df_salinity_yr,'Avg Sea Salinity':df_salinity_val})\n",
    "df_sea_salinity = df_sea_salinity.loc[(df_sea_salinity['Year'] >= start_date) & (df_sea_salinity['Year'] <= end_date)]\n",
    "df_sea_salinity.reset_index(drop = True, inplace = True)\n",
    "print(df_sea_salinity)"
   ]
  },
  {
   "cell_type": "markdown",
   "id": "57dd5af3",
   "metadata": {},
   "source": [
    "Average Sea level"
   ]
  },
  {
   "cell_type": "code",
   "execution_count": 510,
   "id": "fdf87820",
   "metadata": {},
   "outputs": [
    {
     "name": "stdout",
     "output_type": "stream",
     "text": [
      "    Year  SeaLevel_Campbell  SeaLevel_Cherry  SeaLevel_Atkinson  \\\n",
      "0   1997             7126.0           7081.0        7050.703704   \n",
      "1   1998             7077.0           7065.0        7098.000000   \n",
      "2   1999             7013.0           7008.0        7072.000000   \n",
      "3   2000             6987.0           6982.0        7034.000000   \n",
      "4   2001             6975.0           6965.0        7025.000000   \n",
      "5   2002             6984.0           6990.0        7045.000000   \n",
      "6   2003             7028.0           7034.0        7079.000000   \n",
      "7   2004             7017.0           7024.0        7072.000000   \n",
      "8   2005             7036.0           7034.0        7084.000000   \n",
      "9   2006             7047.0           7032.0        7097.000000   \n",
      "10  2007             7017.0           6966.0        7058.000000   \n",
      "11  2008             7006.0           6962.0        7033.000000   \n",
      "12  2009             7008.0           6976.0        7043.000000   \n",
      "13  2010             7090.0           7043.0        7114.000000   \n",
      "14  2011             7049.0           6998.0        7079.000000   \n",
      "15  2012             7044.0           7036.0        7112.000000   \n",
      "\n",
      "    SeaLevel_Angeles  Avg Sea Levels  \n",
      "0               7038     7073.925926  \n",
      "1               7010     7062.500000  \n",
      "2               6952     7011.250000  \n",
      "3               6915     6979.500000  \n",
      "4               6909     6968.500000  \n",
      "5               6916     6983.750000  \n",
      "6               6964     7026.250000  \n",
      "7               6943     7014.000000  \n",
      "8               6962     7029.000000  \n",
      "9               6979     7038.750000  \n",
      "10              6915     6989.000000  \n",
      "11              6909     6977.500000  \n",
      "12              6922     6987.250000  \n",
      "13              7012     7064.750000  \n",
      "14              6943     7017.250000  \n",
      "15              6985     7044.250000  \n"
     ]
    }
   ],
   "source": [
    "# Sea levels for nonexistent data points are marked with -99999 we will replace them with mean\n",
    "\n",
    "df_sl_campbell = Sl_file_campbell.drop(columns = [2,3]).replace(-99999,np.nan)\n",
    "df_sl_cherry = Sl_file_cherry.drop(columns = [2,3]).replace(-99999,np.nan)\n",
    "df_sl_atkinson = Sl_file_atkinson.drop(columns = [2,3]).replace(-99999,np.nan)\n",
    "df_sl_angeles = Sl_file_angeles.drop(columns = [2,3]).replace(-99999,np.nan)\n",
    "\n",
    "df_sl_campbell = df_sl_campbell.fillna(df_sl_campbell[1].mean()).loc[(df_sl_campbell[0] >= start_date) & (df_sl_campbell[0] <= end_date)]\n",
    "df_sl_cherry = df_sl_cherry.fillna(df_sl_cherry[1].mean()).loc[(df_sl_cherry[0] >= start_date) & (df_sl_cherry[0] <= end_date)]\n",
    "df_sl_atkinson = df_sl_atkinson.fillna(df_sl_atkinson[1].mean()).loc[(df_sl_atkinson[0] >= start_date) & (df_sl_atkinson[0] <= end_date)]\n",
    "df_sl_angeles = df_sl_angeles.fillna(df_sl_angeles[1].mean()).loc[(df_sl_angeles[0] >= start_date) & (df_sl_angeles[0] <= end_date)]\n",
    "\n",
    "df_sl_campbell_clean = df_sl_campbell.rename(columns={0: 'Year', 1: 'SeaLevel_Campbell'})\n",
    "df_sl_cherry_clean = df_sl_cherry.rename(columns={0: 'Year', 1: 'SeaLevel_Cherry'})\n",
    "df_sl_atkinson_clean = df_sl_atkinson.rename(columns={0: 'Year', 1: 'SeaLevel_Atkinson'})\n",
    "df_sl_angeles_clean = df_sl_angeles.rename(columns={0: 'Year', 1: 'SeaLevel_Angeles'})\n",
    "df_sl_merged = pd.merge(df_sl_campbell_clean,df_sl_cherry_clean, on = 'Year', how = 'outer')\n",
    "df_sl_merged = pd.merge(df_sl_merged,df_sl_atkinson_clean, on = 'Year', how = 'outer')\n",
    "df_sl = pd.merge(df_sl_merged,df_sl_angeles_clean, on = 'Year', how = 'outer')\n",
    "\n",
    "df_sl['Avg Sea Levels']= df_sl.iloc[:,1:].mean(axis=1, skipna=True)\n",
    "print(df_sl)"
   ]
  },
  {
   "cell_type": "markdown",
   "id": "91364aa8",
   "metadata": {},
   "source": [
    "PDO, Sea Surface Temperature, Flow Rate"
   ]
  },
  {
   "cell_type": "code",
   "execution_count": 511,
   "id": "ea607ac8",
   "metadata": {},
   "outputs": [],
   "source": [
    "df_pdo = Pdo_file.loc[(Pdo_file['year'] >= start_date) & (Pdo_file['year'] <= end_date)]\n",
    "df_pdo_clean = df_pdo.rename(columns={'year':'Year'})\n",
    "df_pdo_avg = df_pdo_clean.groupby(['Year']).mean()\n",
    "df_pdo_avg = df_pdo_avg.drop(columns = ['date','month'])\n",
    "\n",
    "df_sst = SST_file.loc[(SST_file['Year'] >= start_date) & (SST_file['Year'] <= end_date)].drop(columns = ['Sl no','Month','Day'])\n",
    "df_sst_avg = df_sst.groupby(['Year']).mean()\n",
    "\n",
    "df_flow_rate = Flow_rate_file[(Flow_rate_file['Year'] >= start_date) & (Flow_rate_file['Year'] <= end_date) &(Flow_rate_file['PARAM'] == 1)]\n",
    "df_flow_rate = df_flow_rate.drop(columns = [' ID','PARAM','MM--DD','SYM','MM--DD.1','SYM.1'])\n",
    "df_flow_rate['Avg flow rate'] = 0.5*(df_flow_rate['MAX']+df_flow_rate['MIN'])\n",
    "df_flow_rate.rename(columns = {'MAX':'Max flow rate','MIN':'Min flow rate'},inplace = True)\n",
    "df_flow_rate.reset_index(drop = True, inplace = True)"
   ]
  },
  {
   "cell_type": "markdown",
   "id": "e1421f26",
   "metadata": {},
   "source": [
    "Merging Sea salinity, Avg Sea level, PDO, Sea surface temperature and Avg Flow rate into one dataframe "
   ]
  },
  {
   "cell_type": "code",
   "execution_count": 512,
   "id": "7315135e",
   "metadata": {},
   "outputs": [
    {
     "name": "stdout",
     "output_type": "stream",
     "text": [
      "    Year  Avg Sea Salinity  Avg Sea Levels       pdo        SST  Avg flow rate\n",
      "0   1997         25.359167     7073.925926  1.316667  10.236920         6044.0\n",
      "1   1998         27.243333     7062.500000 -0.478333   9.880789         3655.0\n",
      "2   1999         26.195833     7011.250000 -1.843333   9.353840         5823.5\n",
      "3   2000         27.405833     6979.500000 -1.125833   9.429773         4235.0\n",
      "4   2001         28.385000     6968.500000 -1.134167  10.284261         3809.0\n",
      "5   2002         27.663333     6983.750000 -0.439167  10.648880         5545.5\n",
      "6   2003         27.967273     7026.250000  0.381667   9.851023         3886.0\n",
      "7   2004         27.438333     7014.000000 -0.224167   9.671527         3605.0\n",
      "8   2005         27.265000     7029.000000 -0.188333  10.114719         4132.5\n",
      "9   2006         28.180833     7038.750000 -0.350833   9.611567         3850.0\n",
      "10  2007         26.918333     6989.000000 -0.702500  10.262374         5680.0\n",
      "11  2008         27.835833     6977.500000 -1.663333   9.171476         5424.0\n",
      "12  2009         27.345000     6987.250000 -1.031667   9.428387         4087.0\n",
      "13  2010         26.639167     7064.750000 -1.060833  10.192506         3344.0\n",
      "14  2011         24.715455     7017.250000 -1.811667   9.367580         5275.0\n",
      "15  2012         25.620833     7044.250000 -1.733333   9.907320         6202.5\n"
     ]
    }
   ],
   "source": [
    "#print(df_flow_rate)\n",
    "#print(df_sst_avg)\n",
    "#print(df_pdo_avg)\n",
    "\n",
    "df_env_factors = pd.merge(df_sea_salinity,df_sl[['Year','Avg Sea Levels']],on = 'Year',how = 'outer')\n",
    "df_env_factors = pd.merge(df_env_factors,df_pdo_avg,on = 'Year',how = 'outer')\n",
    "df_env_factors = pd.merge(df_env_factors,df_sst_avg, on='Year',how = 'outer')\n",
    "df_env_factors = pd.merge(df_env_factors, df_flow_rate[['Year','Avg flow rate']], on = 'Year', how = 'outer')\n",
    "print(df_env_factors)"
   ]
  },
  {
   "cell_type": "markdown",
   "id": "0627d44e",
   "metadata": {},
   "source": [
    "## Predatory variables\n",
    "\n",
    "Killer whale and Harbour seal population, RC catch"
   ]
  },
  {
   "cell_type": "code",
   "execution_count": 513,
   "id": "ac7b9d1b",
   "metadata": {},
   "outputs": [
    {
     "data": {
      "text/html": [
       "<div>\n",
       "<style scoped>\n",
       "    .dataframe tbody tr th:only-of-type {\n",
       "        vertical-align: middle;\n",
       "    }\n",
       "\n",
       "    .dataframe tbody tr th {\n",
       "        vertical-align: top;\n",
       "    }\n",
       "\n",
       "    .dataframe thead th {\n",
       "        text-align: right;\n",
       "    }\n",
       "</style>\n",
       "<table border=\"1\" class=\"dataframe\">\n",
       "  <thead>\n",
       "    <tr style=\"text-align: right;\">\n",
       "      <th></th>\n",
       "      <th>Year</th>\n",
       "      <th>Total Biomass</th>\n",
       "      <th>Total Biomass anomaly</th>\n",
       "      <th>Avg Sea Salinity</th>\n",
       "      <th>Avg Sea Levels</th>\n",
       "      <th>pdo</th>\n",
       "      <th>SST</th>\n",
       "      <th>Avg flow rate</th>\n",
       "      <th>Harbour seal</th>\n",
       "      <th>Killer whale</th>\n",
       "      <th>Chinook catch</th>\n",
       "      <th>Coho catch</th>\n",
       "    </tr>\n",
       "  </thead>\n",
       "  <tbody>\n",
       "    <tr>\n",
       "      <th>0</th>\n",
       "      <td>1997</td>\n",
       "      <td>71.212723</td>\n",
       "      <td>0.100896</td>\n",
       "      <td>25.359167</td>\n",
       "      <td>7073.925926</td>\n",
       "      <td>1.316667</td>\n",
       "      <td>10.236920</td>\n",
       "      <td>6044.0</td>\n",
       "      <td>39187</td>\n",
       "      <td>218.0</td>\n",
       "      <td>154268</td>\n",
       "      <td>213163</td>\n",
       "    </tr>\n",
       "    <tr>\n",
       "      <th>1</th>\n",
       "      <td>1998</td>\n",
       "      <td>105.522363</td>\n",
       "      <td>0.310248</td>\n",
       "      <td>27.243333</td>\n",
       "      <td>7062.500000</td>\n",
       "      <td>-0.478333</td>\n",
       "      <td>9.880789</td>\n",
       "      <td>3655.0</td>\n",
       "      <td>39190</td>\n",
       "      <td>216.0</td>\n",
       "      <td>160780</td>\n",
       "      <td>16335</td>\n",
       "    </tr>\n",
       "    <tr>\n",
       "      <th>2</th>\n",
       "      <td>1999</td>\n",
       "      <td>156.692799</td>\n",
       "      <td>0.271163</td>\n",
       "      <td>26.195833</td>\n",
       "      <td>7011.250000</td>\n",
       "      <td>-1.843333</td>\n",
       "      <td>9.353840</td>\n",
       "      <td>5823.5</td>\n",
       "      <td>39190</td>\n",
       "      <td>216.0</td>\n",
       "      <td>185093</td>\n",
       "      <td>47758</td>\n",
       "    </tr>\n",
       "    <tr>\n",
       "      <th>3</th>\n",
       "      <td>2000</td>\n",
       "      <td>130.563055</td>\n",
       "      <td>0.186406</td>\n",
       "      <td>27.405833</td>\n",
       "      <td>6979.500000</td>\n",
       "      <td>-1.125833</td>\n",
       "      <td>9.429773</td>\n",
       "      <td>4235.0</td>\n",
       "      <td>39190</td>\n",
       "      <td>208.0</td>\n",
       "      <td>138164</td>\n",
       "      <td>36707</td>\n",
       "    </tr>\n",
       "    <tr>\n",
       "      <th>4</th>\n",
       "      <td>2001</td>\n",
       "      <td>102.394193</td>\n",
       "      <td>0.112293</td>\n",
       "      <td>28.385000</td>\n",
       "      <td>6968.500000</td>\n",
       "      <td>-1.134167</td>\n",
       "      <td>10.284261</td>\n",
       "      <td>3809.0</td>\n",
       "      <td>39190</td>\n",
       "      <td>200.0</td>\n",
       "      <td>218707</td>\n",
       "      <td>213302</td>\n",
       "    </tr>\n",
       "    <tr>\n",
       "      <th>5</th>\n",
       "      <td>2002</td>\n",
       "      <td>71.626773</td>\n",
       "      <td>0.048593</td>\n",
       "      <td>27.663333</td>\n",
       "      <td>6983.750000</td>\n",
       "      <td>-0.439167</td>\n",
       "      <td>10.648880</td>\n",
       "      <td>5545.5</td>\n",
       "      <td>39190</td>\n",
       "      <td>203.0</td>\n",
       "      <td>350788</td>\n",
       "      <td>183885</td>\n",
       "    </tr>\n",
       "    <tr>\n",
       "      <th>6</th>\n",
       "      <td>2003</td>\n",
       "      <td>61.066670</td>\n",
       "      <td>-0.102757</td>\n",
       "      <td>27.967273</td>\n",
       "      <td>7026.250000</td>\n",
       "      <td>0.381667</td>\n",
       "      <td>9.851023</td>\n",
       "      <td>3886.0</td>\n",
       "      <td>39190</td>\n",
       "      <td>204.0</td>\n",
       "      <td>494653</td>\n",
       "      <td>345421</td>\n",
       "    </tr>\n",
       "    <tr>\n",
       "      <th>7</th>\n",
       "      <td>2004</td>\n",
       "      <td>39.438141</td>\n",
       "      <td>-0.179500</td>\n",
       "      <td>27.438333</td>\n",
       "      <td>7014.000000</td>\n",
       "      <td>-0.224167</td>\n",
       "      <td>9.671527</td>\n",
       "      <td>3605.0</td>\n",
       "      <td>39190</td>\n",
       "      <td>220.0</td>\n",
       "      <td>606127</td>\n",
       "      <td>299931</td>\n",
       "    </tr>\n",
       "    <tr>\n",
       "      <th>8</th>\n",
       "      <td>2005</td>\n",
       "      <td>21.697433</td>\n",
       "      <td>-0.260425</td>\n",
       "      <td>27.265000</td>\n",
       "      <td>7029.000000</td>\n",
       "      <td>-0.188333</td>\n",
       "      <td>10.114719</td>\n",
       "      <td>4132.5</td>\n",
       "      <td>39190</td>\n",
       "      <td>230.0</td>\n",
       "      <td>541544</td>\n",
       "      <td>283672</td>\n",
       "    </tr>\n",
       "    <tr>\n",
       "      <th>9</th>\n",
       "      <td>2006</td>\n",
       "      <td>58.623723</td>\n",
       "      <td>-0.088966</td>\n",
       "      <td>28.180833</td>\n",
       "      <td>7038.750000</td>\n",
       "      <td>-0.350833</td>\n",
       "      <td>9.611567</td>\n",
       "      <td>3850.0</td>\n",
       "      <td>39190</td>\n",
       "      <td>239.0</td>\n",
       "      <td>306738</td>\n",
       "      <td>127230</td>\n",
       "    </tr>\n",
       "    <tr>\n",
       "      <th>10</th>\n",
       "      <td>2007</td>\n",
       "      <td>48.614769</td>\n",
       "      <td>-0.153116</td>\n",
       "      <td>26.918333</td>\n",
       "      <td>6989.000000</td>\n",
       "      <td>-0.702500</td>\n",
       "      <td>10.262374</td>\n",
       "      <td>5680.0</td>\n",
       "      <td>39190</td>\n",
       "      <td>240.0</td>\n",
       "      <td>266277</td>\n",
       "      <td>161341</td>\n",
       "    </tr>\n",
       "    <tr>\n",
       "      <th>11</th>\n",
       "      <td>2008</td>\n",
       "      <td>151.181537</td>\n",
       "      <td>-0.022051</td>\n",
       "      <td>27.835833</td>\n",
       "      <td>6977.500000</td>\n",
       "      <td>-1.663333</td>\n",
       "      <td>9.171476</td>\n",
       "      <td>5424.0</td>\n",
       "      <td>39190</td>\n",
       "      <td>250.0</td>\n",
       "      <td>231871</td>\n",
       "      <td>138712</td>\n",
       "    </tr>\n",
       "    <tr>\n",
       "      <th>12</th>\n",
       "      <td>2009</td>\n",
       "      <td>148.035048</td>\n",
       "      <td>-0.043890</td>\n",
       "      <td>27.345000</td>\n",
       "      <td>6987.250000</td>\n",
       "      <td>-1.031667</td>\n",
       "      <td>9.428387</td>\n",
       "      <td>4087.0</td>\n",
       "      <td>39190</td>\n",
       "      <td>256.0</td>\n",
       "      <td>289499</td>\n",
       "      <td>269846</td>\n",
       "    </tr>\n",
       "    <tr>\n",
       "      <th>13</th>\n",
       "      <td>2010</td>\n",
       "      <td>121.507428</td>\n",
       "      <td>0.003037</td>\n",
       "      <td>26.639167</td>\n",
       "      <td>7064.750000</td>\n",
       "      <td>-1.060833</td>\n",
       "      <td>10.192506</td>\n",
       "      <td>3344.0</td>\n",
       "      <td>39190</td>\n",
       "      <td>261.0</td>\n",
       "      <td>390620</td>\n",
       "      <td>182997</td>\n",
       "    </tr>\n",
       "    <tr>\n",
       "      <th>14</th>\n",
       "      <td>2011</td>\n",
       "      <td>108.806579</td>\n",
       "      <td>0.240546</td>\n",
       "      <td>24.715455</td>\n",
       "      <td>7017.250000</td>\n",
       "      <td>-1.811667</td>\n",
       "      <td>9.367580</td>\n",
       "      <td>5275.0</td>\n",
       "      <td>39190</td>\n",
       "      <td>267.0</td>\n",
       "      <td>1019708</td>\n",
       "      <td>370218</td>\n",
       "    </tr>\n",
       "    <tr>\n",
       "      <th>15</th>\n",
       "      <td>2012</td>\n",
       "      <td>76.453393</td>\n",
       "      <td>0.112064</td>\n",
       "      <td>25.620833</td>\n",
       "      <td>7044.250000</td>\n",
       "      <td>-1.733333</td>\n",
       "      <td>9.907320</td>\n",
       "      <td>6202.5</td>\n",
       "      <td>39190</td>\n",
       "      <td>272.0</td>\n",
       "      <td>394450</td>\n",
       "      <td>318471</td>\n",
       "    </tr>\n",
       "  </tbody>\n",
       "</table>\n",
       "</div>"
      ],
      "text/plain": [
       "    Year  Total Biomass  Total Biomass anomaly  Avg Sea Salinity  \\\n",
       "0   1997      71.212723               0.100896         25.359167   \n",
       "1   1998     105.522363               0.310248         27.243333   \n",
       "2   1999     156.692799               0.271163         26.195833   \n",
       "3   2000     130.563055               0.186406         27.405833   \n",
       "4   2001     102.394193               0.112293         28.385000   \n",
       "5   2002      71.626773               0.048593         27.663333   \n",
       "6   2003      61.066670              -0.102757         27.967273   \n",
       "7   2004      39.438141              -0.179500         27.438333   \n",
       "8   2005      21.697433              -0.260425         27.265000   \n",
       "9   2006      58.623723              -0.088966         28.180833   \n",
       "10  2007      48.614769              -0.153116         26.918333   \n",
       "11  2008     151.181537              -0.022051         27.835833   \n",
       "12  2009     148.035048              -0.043890         27.345000   \n",
       "13  2010     121.507428               0.003037         26.639167   \n",
       "14  2011     108.806579               0.240546         24.715455   \n",
       "15  2012      76.453393               0.112064         25.620833   \n",
       "\n",
       "    Avg Sea Levels       pdo        SST  Avg flow rate  Harbour seal  \\\n",
       "0      7073.925926  1.316667  10.236920         6044.0         39187   \n",
       "1      7062.500000 -0.478333   9.880789         3655.0         39190   \n",
       "2      7011.250000 -1.843333   9.353840         5823.5         39190   \n",
       "3      6979.500000 -1.125833   9.429773         4235.0         39190   \n",
       "4      6968.500000 -1.134167  10.284261         3809.0         39190   \n",
       "5      6983.750000 -0.439167  10.648880         5545.5         39190   \n",
       "6      7026.250000  0.381667   9.851023         3886.0         39190   \n",
       "7      7014.000000 -0.224167   9.671527         3605.0         39190   \n",
       "8      7029.000000 -0.188333  10.114719         4132.5         39190   \n",
       "9      7038.750000 -0.350833   9.611567         3850.0         39190   \n",
       "10     6989.000000 -0.702500  10.262374         5680.0         39190   \n",
       "11     6977.500000 -1.663333   9.171476         5424.0         39190   \n",
       "12     6987.250000 -1.031667   9.428387         4087.0         39190   \n",
       "13     7064.750000 -1.060833  10.192506         3344.0         39190   \n",
       "14     7017.250000 -1.811667   9.367580         5275.0         39190   \n",
       "15     7044.250000 -1.733333   9.907320         6202.5         39190   \n",
       "\n",
       "    Killer whale  Chinook catch  Coho catch  \n",
       "0          218.0         154268      213163  \n",
       "1          216.0         160780       16335  \n",
       "2          216.0         185093       47758  \n",
       "3          208.0         138164       36707  \n",
       "4          200.0         218707      213302  \n",
       "5          203.0         350788      183885  \n",
       "6          204.0         494653      345421  \n",
       "7          220.0         606127      299931  \n",
       "8          230.0         541544      283672  \n",
       "9          239.0         306738      127230  \n",
       "10         240.0         266277      161341  \n",
       "11         250.0         231871      138712  \n",
       "12         256.0         289499      269846  \n",
       "13         261.0         390620      182997  \n",
       "14         267.0        1019708      370218  \n",
       "15         272.0         394450      318471  "
      ]
     },
     "execution_count": 513,
     "metadata": {},
     "output_type": "execute_result"
    }
   ],
   "source": [
    "df_whale = Whale_file.loc[(Whale_file['Year'] >= start_date) & (Whale_file['Year'] <= end_date)].drop(columns = ['SRKW','srkwSource','nrkwSource'])\n",
    "df_seal = Seal_file.loc[(Seal_file['year'] >= start_date) & (Seal_file['year'] <= end_date)].drop(columns = ['nonSogNt','bcNt']).rename(columns={'year':'Year'})\n",
    "df_rc_catch = RC_file.loc[(RC_file['Year'] >= start_date) & (RC_file['Year'] <= end_date)].iloc[:,1:]\n",
    "\n",
    "df_whale.reset_index(drop = True, inplace = True)\n",
    "df_seal.reset_index(drop = True, inplace = True)\n",
    "df_rc_catch.reset_index(drop = True,inplace = True)\n",
    "\n",
    "df_pred_factors = pd.merge(df_seal,df_whale, on = 'Year',how = 'outer')\n",
    "df_pred_factors = pd.merge(df_pred_factors,df_rc_catch,on='Year',how = 'outer')\n",
    "df_pred_factors.rename(columns = {'sogNt':'Harbour seal','NRKW':'Killer whale'},inplace = True)\n",
    "df_input_variables = pd.merge(df_feeding_factors,df_env_factors,on = 'Year', how = 'outer')\n",
    "df_input_variables = pd.merge(df_input_variables,df_pred_factors,on = 'Year', how = 'outer')\n",
    "df_input_variables"
   ]
  },
  {
   "cell_type": "markdown",
   "id": "32921a1d",
   "metadata": {},
   "source": [
    "# Building Lasso model with the entire data (1996-2012) as training and CV set"
   ]
  },
  {
   "cell_type": "markdown",
   "id": "97a25702",
   "metadata": {},
   "source": [
    "### Creating dataframe with input variables\n",
    "\n"
   ]
  },
  {
   "cell_type": "code",
   "execution_count": 514,
   "id": "0d5b831b",
   "metadata": {},
   "outputs": [
    {
     "name": "stdout",
     "output_type": "stream",
     "text": [
      "    Total Biomass  Avg Sea Levels  Avg Sea Salinity       pdo  Harbour seal  \\\n",
      "0       71.212723     7073.925926         25.359167  1.316667         39187   \n",
      "1      105.522363     7062.500000         27.243333 -0.478333         39190   \n",
      "2      156.692799     7011.250000         26.195833 -1.843333         39190   \n",
      "3      130.563055     6979.500000         27.405833 -1.125833         39190   \n",
      "4      102.394193     6968.500000         28.385000 -1.134167         39190   \n",
      "5       71.626773     6983.750000         27.663333 -0.439167         39190   \n",
      "6       61.066670     7026.250000         27.967273  0.381667         39190   \n",
      "7       39.438141     7014.000000         27.438333 -0.224167         39190   \n",
      "8       21.697433     7029.000000         27.265000 -0.188333         39190   \n",
      "9       58.623723     7038.750000         28.180833 -0.350833         39190   \n",
      "10      48.614769     6989.000000         26.918333 -0.702500         39190   \n",
      "11     151.181537     6977.500000         27.835833 -1.663333         39190   \n",
      "12     148.035048     6987.250000         27.345000 -1.031667         39190   \n",
      "13     121.507428     7064.750000         26.639167 -1.060833         39190   \n",
      "14     108.806579     7017.250000         24.715455 -1.811667         39190   \n",
      "15      76.453393     7044.250000         25.620833 -1.733333         39190   \n",
      "\n",
      "    Killer whale  Chinook catch  Coho catch  \n",
      "0          218.0         154268      213163  \n",
      "1          216.0         160780       16335  \n",
      "2          216.0         185093       47758  \n",
      "3          208.0         138164       36707  \n",
      "4          200.0         218707      213302  \n",
      "5          203.0         350788      183885  \n",
      "6          204.0         494653      345421  \n",
      "7          220.0         606127      299931  \n",
      "8          230.0         541544      283672  \n",
      "9          239.0         306738      127230  \n",
      "10         240.0         266277      161341  \n",
      "11         250.0         231871      138712  \n",
      "12         256.0         289499      269846  \n",
      "13         261.0         390620      182997  \n",
      "14         267.0        1019708      370218  \n",
      "15         272.0         394450      318471  \n"
     ]
    }
   ],
   "source": [
    "X = df_input_variables[['Total Biomass','Avg Sea Levels','Avg Sea Salinity','pdo','Harbour seal','Killer whale','Chinook catch','Coho catch']]\n",
    "print(X)\n",
    "scaler = StandardScaler()\n",
    "x_nrm = scaler.fit_transform(X) #These will be our input features"
   ]
  },
  {
   "cell_type": "markdown",
   "id": "a2fd5ad5",
   "metadata": {},
   "source": [
    "### Creating data frame with Target variable - salmon viability data"
   ]
  },
  {
   "cell_type": "code",
   "execution_count": 515,
   "id": "346e7c55",
   "metadata": {},
   "outputs": [],
   "source": [
    "\n",
    "# Target variable, Salmon viability data\n",
    "Salmon_file = pd.read_excel('Data/ZooPlanktonPerryData.xlsx','5. Salmon marine survivals') \n",
    "#print(Salmon_file)\n",
    "for i in Salmon_file.columns[Salmon_file.isnull().any(axis=0)]:  \n",
    "    Salmon_file[i].fillna(Salmon_file[i].mean(),inplace=True)\n",
    "    \n",
    "df_salmon_viab = Salmon_file.loc[(Salmon_file['Ocean Entry Year'] >= start_date) & (Salmon_file['Ocean Entry Year'] <= end_date)].rename(columns = {'Ocean Entry Year':'Year'}).reset_index(drop = True)\n",
    "#print(df_salmon_viab)\n"
   ]
  },
  {
   "cell_type": "markdown",
   "id": "6cd8fda1",
   "metadata": {},
   "source": [
    "### Building hyperparameter search space and grid search object"
   ]
  },
  {
   "cell_type": "code",
   "execution_count": 516,
   "id": "7626b087",
   "metadata": {},
   "outputs": [],
   "source": [
    "alphas = np.logspace(-5, -1, num=100001)\n",
    "\n",
    "hp_space = {\"alpha\" : alphas}\n",
    "lasso = Lasso()\n",
    "gscv = GridSearchCV(estimator = lasso, param_grid = hp_space, \n",
    "                    scoring='neg_root_mean_squared_error', \n",
    "                    refit = \"r2\",\n",
    "                    cv=3,verbose=0)"
   ]
  },
  {
   "cell_type": "markdown",
   "id": "5722c8ad",
   "metadata": {},
   "source": [
    "### Building Lasso model for Cowichan chinook species"
   ]
  },
  {
   "cell_type": "code",
   "execution_count": 517,
   "id": "3ab28158",
   "metadata": {},
   "outputs": [
    {
     "data": {
      "text/html": [
       "<style>#sk-container-id-89 {color: black;background-color: white;}#sk-container-id-89 pre{padding: 0;}#sk-container-id-89 div.sk-toggleable {background-color: white;}#sk-container-id-89 label.sk-toggleable__label {cursor: pointer;display: block;width: 100%;margin-bottom: 0;padding: 0.3em;box-sizing: border-box;text-align: center;}#sk-container-id-89 label.sk-toggleable__label-arrow:before {content: \"▸\";float: left;margin-right: 0.25em;color: #696969;}#sk-container-id-89 label.sk-toggleable__label-arrow:hover:before {color: black;}#sk-container-id-89 div.sk-estimator:hover label.sk-toggleable__label-arrow:before {color: black;}#sk-container-id-89 div.sk-toggleable__content {max-height: 0;max-width: 0;overflow: hidden;text-align: left;background-color: #f0f8ff;}#sk-container-id-89 div.sk-toggleable__content pre {margin: 0.2em;color: black;border-radius: 0.25em;background-color: #f0f8ff;}#sk-container-id-89 input.sk-toggleable__control:checked~div.sk-toggleable__content {max-height: 200px;max-width: 100%;overflow: auto;}#sk-container-id-89 input.sk-toggleable__control:checked~label.sk-toggleable__label-arrow:before {content: \"▾\";}#sk-container-id-89 div.sk-estimator input.sk-toggleable__control:checked~label.sk-toggleable__label {background-color: #d4ebff;}#sk-container-id-89 div.sk-label input.sk-toggleable__control:checked~label.sk-toggleable__label {background-color: #d4ebff;}#sk-container-id-89 input.sk-hidden--visually {border: 0;clip: rect(1px 1px 1px 1px);clip: rect(1px, 1px, 1px, 1px);height: 1px;margin: -1px;overflow: hidden;padding: 0;position: absolute;width: 1px;}#sk-container-id-89 div.sk-estimator {font-family: monospace;background-color: #f0f8ff;border: 1px dotted black;border-radius: 0.25em;box-sizing: border-box;margin-bottom: 0.5em;}#sk-container-id-89 div.sk-estimator:hover {background-color: #d4ebff;}#sk-container-id-89 div.sk-parallel-item::after {content: \"\";width: 100%;border-bottom: 1px solid gray;flex-grow: 1;}#sk-container-id-89 div.sk-label:hover label.sk-toggleable__label {background-color: #d4ebff;}#sk-container-id-89 div.sk-serial::before {content: \"\";position: absolute;border-left: 1px solid gray;box-sizing: border-box;top: 0;bottom: 0;left: 50%;z-index: 0;}#sk-container-id-89 div.sk-serial {display: flex;flex-direction: column;align-items: center;background-color: white;padding-right: 0.2em;padding-left: 0.2em;position: relative;}#sk-container-id-89 div.sk-item {position: relative;z-index: 1;}#sk-container-id-89 div.sk-parallel {display: flex;align-items: stretch;justify-content: center;background-color: white;position: relative;}#sk-container-id-89 div.sk-item::before, #sk-container-id-89 div.sk-parallel-item::before {content: \"\";position: absolute;border-left: 1px solid gray;box-sizing: border-box;top: 0;bottom: 0;left: 50%;z-index: -1;}#sk-container-id-89 div.sk-parallel-item {display: flex;flex-direction: column;z-index: 1;position: relative;background-color: white;}#sk-container-id-89 div.sk-parallel-item:first-child::after {align-self: flex-end;width: 50%;}#sk-container-id-89 div.sk-parallel-item:last-child::after {align-self: flex-start;width: 50%;}#sk-container-id-89 div.sk-parallel-item:only-child::after {width: 0;}#sk-container-id-89 div.sk-dashed-wrapped {border: 1px dashed gray;margin: 0 0.4em 0.5em 0.4em;box-sizing: border-box;padding-bottom: 0.4em;background-color: white;}#sk-container-id-89 div.sk-label label {font-family: monospace;font-weight: bold;display: inline-block;line-height: 1.2em;}#sk-container-id-89 div.sk-label-container {text-align: center;}#sk-container-id-89 div.sk-container {/* jupyter's `normalize.less` sets `[hidden] { display: none; }` but bootstrap.min.css set `[hidden] { display: none !important; }` so we also need the `!important` here to be able to override the default hidden behavior on the sphinx rendered scikit-learn.org. See: https://github.com/scikit-learn/scikit-learn/issues/21755 */display: inline-block !important;position: relative;}#sk-container-id-89 div.sk-text-repr-fallback {display: none;}</style><div id=\"sk-container-id-89\" class=\"sk-top-container\"><div class=\"sk-text-repr-fallback\"><pre>GridSearchCV(cv=3, estimator=Lasso(),\n",
       "             param_grid={&#x27;alpha&#x27;: array([1.00000000e-05, 1.00009211e-05, 1.00018422e-05, ...,\n",
       "       9.99815810e-02, 9.99907901e-02, 1.00000000e-01])},\n",
       "             refit=&#x27;r2&#x27;, scoring=&#x27;neg_root_mean_squared_error&#x27;)</pre><b>In a Jupyter environment, please rerun this cell to show the HTML representation or trust the notebook. <br />On GitHub, the HTML representation is unable to render, please try loading this page with nbviewer.org.</b></div><div class=\"sk-container\" hidden><div class=\"sk-item sk-dashed-wrapped\"><div class=\"sk-label-container\"><div class=\"sk-label sk-toggleable\"><input class=\"sk-toggleable__control sk-hidden--visually\" id=\"sk-estimator-id-265\" type=\"checkbox\" ><label for=\"sk-estimator-id-265\" class=\"sk-toggleable__label sk-toggleable__label-arrow\">GridSearchCV</label><div class=\"sk-toggleable__content\"><pre>GridSearchCV(cv=3, estimator=Lasso(),\n",
       "             param_grid={&#x27;alpha&#x27;: array([1.00000000e-05, 1.00009211e-05, 1.00018422e-05, ...,\n",
       "       9.99815810e-02, 9.99907901e-02, 1.00000000e-01])},\n",
       "             refit=&#x27;r2&#x27;, scoring=&#x27;neg_root_mean_squared_error&#x27;)</pre></div></div></div><div class=\"sk-parallel\"><div class=\"sk-parallel-item\"><div class=\"sk-item\"><div class=\"sk-label-container\"><div class=\"sk-label sk-toggleable\"><input class=\"sk-toggleable__control sk-hidden--visually\" id=\"sk-estimator-id-266\" type=\"checkbox\" ><label for=\"sk-estimator-id-266\" class=\"sk-toggleable__label sk-toggleable__label-arrow\">estimator: Lasso</label><div class=\"sk-toggleable__content\"><pre>Lasso()</pre></div></div></div><div class=\"sk-serial\"><div class=\"sk-item\"><div class=\"sk-estimator sk-toggleable\"><input class=\"sk-toggleable__control sk-hidden--visually\" id=\"sk-estimator-id-267\" type=\"checkbox\" ><label for=\"sk-estimator-id-267\" class=\"sk-toggleable__label sk-toggleable__label-arrow\">Lasso</label><div class=\"sk-toggleable__content\"><pre>Lasso()</pre></div></div></div></div></div></div></div></div></div></div>"
      ],
      "text/plain": [
       "GridSearchCV(cv=3, estimator=Lasso(),\n",
       "             param_grid={'alpha': array([1.00000000e-05, 1.00009211e-05, 1.00018422e-05, ...,\n",
       "       9.99815810e-02, 9.99907901e-02, 1.00000000e-01])},\n",
       "             refit='r2', scoring='neg_root_mean_squared_error')"
      ]
     },
     "execution_count": 517,
     "metadata": {},
     "output_type": "execute_result"
    }
   ],
   "source": [
    "cc_viab = df_salmon_viab['Cowichan Chinook'].to_numpy()  # This is the target variable\n",
    "cc_viab_logit = special.logit(cc_viab)\n",
    "y_cc = (cc_viab_logit-np.nanmean(cc_viab_logit))/np.nanstd(cc_viab_logit)\n",
    "gscv.fit(x_nrm,y_cc)\n"
   ]
  },
  {
   "cell_type": "code",
   "execution_count": 453,
   "id": "42ee1a8d",
   "metadata": {},
   "outputs": [
    {
     "name": "stdout",
     "output_type": "stream",
     "text": [
      "Grid search best estimator for Cowichan chinook Lasso(alpha=0.06530703998706806)\n",
      "Grid search best alpha for Cowichan chinook 0.06530703998706806\n",
      "Optimized model score for Cowichan chinook -1.257078268734809\n"
     ]
    }
   ],
   "source": [
    "print(\"Grid search best estimator for Cowichan chinook\", gscv.best_estimator_)\n",
    "print(\"Grid search best alpha for Cowichan chinook\", gscv.best_params_['alpha'])\n",
    "print(\"Optimized model score for Cowichan chinook\", gscv.best_score_)"
   ]
  },
  {
   "cell_type": "code",
   "execution_count": 454,
   "id": "a983918e",
   "metadata": {},
   "outputs": [
    {
     "name": "stdout",
     "output_type": "stream",
     "text": [
      "Optimized mse 0.3378519554738858\n",
      "Optimized lasso score 0.6621480445261142\n",
      "[ 0.08076031  0.328314   -0.38781563 -0.39760228  0.          0.\n",
      "  0.         -0.        ]\n"
     ]
    },
    {
     "data": {
      "image/png": "[encoded data removed]",
      "text/plain": [
       "<Figure size 640x480 with 1 Axes>"
      ]
     },
     "metadata": {},
     "output_type": "display_data"
    }
   ],
   "source": [
    "lasso.set_params(alpha=gscv.best_params_['alpha'])\n",
    "lasso.fit(x_nrm, y_cc)\n",
    "print(\"Optimized mse\",mse(y_cc, lasso.predict(x_nrm)))\n",
    "#print(lasso.alpha_)\n",
    "print(\"Optimized lasso score\",lasso.score(x_nrm,y_cc))\n",
    "print(lasso.coef_)\n",
    "\n",
    "plt.figure()\n",
    "plt.title(\"Regression from grid search optimized Lasso\\n\"\n",
    "           \"Variables - Biomass, Avg Sea level, Avg Sea salinity, PDO\\n\"\n",
    "           \"Harbour seals, Killer Whales, RC rates\")\n",
    "plt.plot(y_cc,\"x\",label = 'Actual data')\n",
    "plt.grid()\n",
    "plt.plot(lasso.predict(x_nrm),\"o\",label = 'Lasso prediction with opt alpha=%0.6f'%gscv.best_params_['alpha'])\n",
    "plt.legend(loc = 'best')\n",
    "plt.savefig(\"Graphs/Cowichan_Chinook_prediction_grid_search_8_variables\")"
   ]
  },
  {
   "cell_type": "code",
   "execution_count": null,
   "id": "4ffd534a",
   "metadata": {},
   "outputs": [],
   "source": []
  },
  {
   "cell_type": "code",
   "execution_count": null,
   "id": "a46f41d9",
   "metadata": {},
   "outputs": [],
   "source": []
  },
  {
   "cell_type": "markdown",
   "id": "1d75ee0c",
   "metadata": {},
   "source": [
    "### Using LassoCV from sklearn linear model"
   ]
  },
  {
   "cell_type": "code",
   "execution_count": 469,
   "id": "151fd014",
   "metadata": {},
   "outputs": [
    {
     "name": "stdout",
     "output_type": "stream",
     "text": [
      "1.0\n",
      "0.6906213498674949\n",
      "0.0\n",
      "[ 0.  0. -0.  0.  0.  0.]\n"
     ]
    }
   ],
   "source": [
    "lassocv = LassoCV(alphas = alphas, cv = 3, max_iter = 100000)\n",
    "lassocv.fit(x_nrm, y_cc)\n",
    "\n",
    "lasso.set_params(alpha=lassocv.alpha_)\n",
    "lasso.fit(x_nrm, y_cc)\n",
    "print(mse(y_cc, lasso.predict(x_nrm)))\n",
    "print(lassocv.alpha_)\n",
    "print(lasso.score(x_nrm,y_cc))\n",
    "print(lasso.coef_)"
   ]
  },
  {
   "cell_type": "code",
   "execution_count": 456,
   "id": "32fdb26f",
   "metadata": {},
   "outputs": [
    {
     "data": {
      "image/png": "[encoded data removed]",
      "text/plain": [
       "<Figure size 640x480 with 1 Axes>"
      ]
     },
     "metadata": {},
     "output_type": "display_data"
    }
   ],
   "source": [
    "plt.figure()\n",
    "plt.title(\"Regression from Lasso CV\\n\"\n",
    "            \"Variables - Biomass, Avg Sea level, Avg Sea salinity, PDO\\n\"\n",
    "           \"Harbour seals, Killer Whales, RC rates\")\n",
    "plt.plot(y_cc,\"x\",label = 'Actual data')\n",
    "plt.grid()\n",
    "plt.plot(lasso.predict(x_nrm),\"o\",label = 'Lasso prediction with opt alpha=%0.6f'%lassocv.alpha_)\n",
    "plt.legend(loc = 'best')\n",
    "plt.savefig(\"Graphs/Cowichan_Chinook_prediction_Lasso_CV_search_8_variables\")"
   ]
  },
  {
   "cell_type": "code",
   "execution_count": null,
   "id": "a31b2c43",
   "metadata": {},
   "outputs": [],
   "source": []
  },
  {
   "cell_type": "markdown",
   "id": "3591a73b",
   "metadata": {},
   "source": [
    "### Building Lasso model for Big Qualicum Coho species"
   ]
  },
  {
   "cell_type": "markdown",
   "id": "1d691da0",
   "metadata": {},
   "source": [
    "#### Input variables considered - (1) Total Biomass availability,  (2) Total biomass anomaly,   (3) Sea level,   (4) Salinity,  (5) PDO,  (6) Sea Surface Temperature,  (7) Avg Fraser river flow,  (8) Killer whale,  (9) Seal population, (10) Recreational catches"
   ]
  },
  {
   "cell_type": "code",
   "execution_count": 518,
   "id": "dd6bf8d7",
   "metadata": {},
   "outputs": [],
   "source": [
    "df_input_variables = pd.merge(df_feeding_factors,df_env_factors,on = 'Year', how = 'outer')\n",
    "df_input_variables = pd.merge(df_input_variables,df_pred_factors,on = 'Year', how = 'outer')\n",
    "X = df_input_variables[['Total Biomass','Avg Sea Levels','Harbour seal','Killer whale','Chinook catch','Coho catch']]\n",
    "#print(X)\n",
    "scaler = StandardScaler()\n",
    "x_nrm = scaler.fit_transform(X) #These will be our input features"
   ]
  },
  {
   "cell_type": "markdown",
   "id": "cbc8b197",
   "metadata": {},
   "source": [
    "#### Building grid search object"
   ]
  },
  {
   "cell_type": "code",
   "execution_count": 519,
   "id": "003fe16b",
   "metadata": {},
   "outputs": [],
   "source": [
    "alphas = np.logspace(-4, -0, num=100001)\n",
    "\n",
    "hp_space = {\"alpha\" : alphas}\n",
    "lasso = Lasso()\n",
    "gscv = GridSearchCV(estimator = lasso, param_grid = hp_space, \n",
    "                    scoring='neg_root_mean_squared_error', \n",
    "                    refit = \"r2\",\n",
    "                    cv=3,verbose=0)"
   ]
  },
  {
   "cell_type": "markdown",
   "id": "e4d5c331",
   "metadata": {},
   "source": [
    "#### Target variable and grid search fit"
   ]
  },
  {
   "cell_type": "code",
   "execution_count": 520,
   "id": "d7fa49c8",
   "metadata": {},
   "outputs": [
    {
     "data": {
      "text/html": [
       "<style>#sk-container-id-90 {color: black;background-color: white;}#sk-container-id-90 pre{padding: 0;}#sk-container-id-90 div.sk-toggleable {background-color: white;}#sk-container-id-90 label.sk-toggleable__label {cursor: pointer;display: block;width: 100%;margin-bottom: 0;padding: 0.3em;box-sizing: border-box;text-align: center;}#sk-container-id-90 label.sk-toggleable__label-arrow:before {content: \"▸\";float: left;margin-right: 0.25em;color: #696969;}#sk-container-id-90 label.sk-toggleable__label-arrow:hover:before {color: black;}#sk-container-id-90 div.sk-estimator:hover label.sk-toggleable__label-arrow:before {color: black;}#sk-container-id-90 div.sk-toggleable__content {max-height: 0;max-width: 0;overflow: hidden;text-align: left;background-color: #f0f8ff;}#sk-container-id-90 div.sk-toggleable__content pre {margin: 0.2em;color: black;border-radius: 0.25em;background-color: #f0f8ff;}#sk-container-id-90 input.sk-toggleable__control:checked~div.sk-toggleable__content {max-height: 200px;max-width: 100%;overflow: auto;}#sk-container-id-90 input.sk-toggleable__control:checked~label.sk-toggleable__label-arrow:before {content: \"▾\";}#sk-container-id-90 div.sk-estimator input.sk-toggleable__control:checked~label.sk-toggleable__label {background-color: #d4ebff;}#sk-container-id-90 div.sk-label input.sk-toggleable__control:checked~label.sk-toggleable__label {background-color: #d4ebff;}#sk-container-id-90 input.sk-hidden--visually {border: 0;clip: rect(1px 1px 1px 1px);clip: rect(1px, 1px, 1px, 1px);height: 1px;margin: -1px;overflow: hidden;padding: 0;position: absolute;width: 1px;}#sk-container-id-90 div.sk-estimator {font-family: monospace;background-color: #f0f8ff;border: 1px dotted black;border-radius: 0.25em;box-sizing: border-box;margin-bottom: 0.5em;}#sk-container-id-90 div.sk-estimator:hover {background-color: #d4ebff;}#sk-container-id-90 div.sk-parallel-item::after {content: \"\";width: 100%;border-bottom: 1px solid gray;flex-grow: 1;}#sk-container-id-90 div.sk-label:hover label.sk-toggleable__label {background-color: #d4ebff;}#sk-container-id-90 div.sk-serial::before {content: \"\";position: absolute;border-left: 1px solid gray;box-sizing: border-box;top: 0;bottom: 0;left: 50%;z-index: 0;}#sk-container-id-90 div.sk-serial {display: flex;flex-direction: column;align-items: center;background-color: white;padding-right: 0.2em;padding-left: 0.2em;position: relative;}#sk-container-id-90 div.sk-item {position: relative;z-index: 1;}#sk-container-id-90 div.sk-parallel {display: flex;align-items: stretch;justify-content: center;background-color: white;position: relative;}#sk-container-id-90 div.sk-item::before, #sk-container-id-90 div.sk-parallel-item::before {content: \"\";position: absolute;border-left: 1px solid gray;box-sizing: border-box;top: 0;bottom: 0;left: 50%;z-index: -1;}#sk-container-id-90 div.sk-parallel-item {display: flex;flex-direction: column;z-index: 1;position: relative;background-color: white;}#sk-container-id-90 div.sk-parallel-item:first-child::after {align-self: flex-end;width: 50%;}#sk-container-id-90 div.sk-parallel-item:last-child::after {align-self: flex-start;width: 50%;}#sk-container-id-90 div.sk-parallel-item:only-child::after {width: 0;}#sk-container-id-90 div.sk-dashed-wrapped {border: 1px dashed gray;margin: 0 0.4em 0.5em 0.4em;box-sizing: border-box;padding-bottom: 0.4em;background-color: white;}#sk-container-id-90 div.sk-label label {font-family: monospace;font-weight: bold;display: inline-block;line-height: 1.2em;}#sk-container-id-90 div.sk-label-container {text-align: center;}#sk-container-id-90 div.sk-container {/* jupyter's `normalize.less` sets `[hidden] { display: none; }` but bootstrap.min.css set `[hidden] { display: none !important; }` so we also need the `!important` here to be able to override the default hidden behavior on the sphinx rendered scikit-learn.org. See: https://github.com/scikit-learn/scikit-learn/issues/21755 */display: inline-block !important;position: relative;}#sk-container-id-90 div.sk-text-repr-fallback {display: none;}</style><div id=\"sk-container-id-90\" class=\"sk-top-container\"><div class=\"sk-text-repr-fallback\"><pre>GridSearchCV(cv=3, estimator=Lasso(),\n",
       "             param_grid={&#x27;alpha&#x27;: array([1.00000000e-04, 1.00009211e-04, 1.00018422e-04, ...,\n",
       "       9.99815810e-01, 9.99907901e-01, 1.00000000e+00])},\n",
       "             refit=&#x27;r2&#x27;, scoring=&#x27;neg_root_mean_squared_error&#x27;)</pre><b>In a Jupyter environment, please rerun this cell to show the HTML representation or trust the notebook. <br />On GitHub, the HTML representation is unable to render, please try loading this page with nbviewer.org.</b></div><div class=\"sk-container\" hidden><div class=\"sk-item sk-dashed-wrapped\"><div class=\"sk-label-container\"><div class=\"sk-label sk-toggleable\"><input class=\"sk-toggleable__control sk-hidden--visually\" id=\"sk-estimator-id-268\" type=\"checkbox\" ><label for=\"sk-estimator-id-268\" class=\"sk-toggleable__label sk-toggleable__label-arrow\">GridSearchCV</label><div class=\"sk-toggleable__content\"><pre>GridSearchCV(cv=3, estimator=Lasso(),\n",
       "             param_grid={&#x27;alpha&#x27;: array([1.00000000e-04, 1.00009211e-04, 1.00018422e-04, ...,\n",
       "       9.99815810e-01, 9.99907901e-01, 1.00000000e+00])},\n",
       "             refit=&#x27;r2&#x27;, scoring=&#x27;neg_root_mean_squared_error&#x27;)</pre></div></div></div><div class=\"sk-parallel\"><div class=\"sk-parallel-item\"><div class=\"sk-item\"><div class=\"sk-label-container\"><div class=\"sk-label sk-toggleable\"><input class=\"sk-toggleable__control sk-hidden--visually\" id=\"sk-estimator-id-269\" type=\"checkbox\" ><label for=\"sk-estimator-id-269\" class=\"sk-toggleable__label sk-toggleable__label-arrow\">estimator: Lasso</label><div class=\"sk-toggleable__content\"><pre>Lasso()</pre></div></div></div><div class=\"sk-serial\"><div class=\"sk-item\"><div class=\"sk-estimator sk-toggleable\"><input class=\"sk-toggleable__control sk-hidden--visually\" id=\"sk-estimator-id-270\" type=\"checkbox\" ><label for=\"sk-estimator-id-270\" class=\"sk-toggleable__label sk-toggleable__label-arrow\">Lasso</label><div class=\"sk-toggleable__content\"><pre>Lasso()</pre></div></div></div></div></div></div></div></div></div></div>"
      ],
      "text/plain": [
       "GridSearchCV(cv=3, estimator=Lasso(),\n",
       "             param_grid={'alpha': array([1.00000000e-04, 1.00009211e-04, 1.00018422e-04, ...,\n",
       "       9.99815810e-01, 9.99907901e-01, 1.00000000e+00])},\n",
       "             refit='r2', scoring='neg_root_mean_squared_error')"
      ]
     },
     "execution_count": 520,
     "metadata": {},
     "output_type": "execute_result"
    }
   ],
   "source": [
    "bqc_viab = df_salmon_viab['Big Qualicum Coho'].to_numpy()  # This is the target variable\n",
    "bqc_viab_logit = special.logit(bqc_viab)\n",
    "y_bqc = (bqc_viab_logit-np.nanmean(bqc_viab_logit))/np.nanstd(bqc_viab_logit)\n",
    "gscv.fit(x_nrm,y_bqc)\n"
   ]
  },
  {
   "cell_type": "code",
   "execution_count": 500,
   "id": "84544e8e",
   "metadata": {},
   "outputs": [
    {
     "name": "stdout",
     "output_type": "stream",
     "text": [
      "Grid search best estimator for Big Qualicum coho Lasso(alpha=0.6782659260153637)\n",
      "Grid search best alpha for Big Qualicum coho 0.6782659260153637\n",
      "Optimized model score for Big Qualicum coho -1.1174207411973283\n"
     ]
    }
   ],
   "source": [
    "print(\"Grid search best estimator for Big Qualicum coho\", gscv.best_estimator_)\n",
    "print(\"Grid search best alpha for Big Qualicum coho\", gscv.best_params_['alpha'])\n",
    "print(\"Optimized model score for Big Qualicum coho\", gscv.best_score_)"
   ]
  },
  {
   "cell_type": "code",
   "execution_count": 501,
   "id": "c8194ef0",
   "metadata": {},
   "outputs": [
    {
     "name": "stdout",
     "output_type": "stream",
     "text": [
      "Optimized mse 1.0000000000000002\n",
      "Optimized lasso score 0.0\n",
      "[ 0. -0. -0. -0.  0.  0. -0. -0.]\n"
     ]
    },
    {
     "data": {
      "image/png": "[encoded data removed]",
      "text/plain": [
       "<Figure size 640x480 with 1 Axes>"
      ]
     },
     "metadata": {},
     "output_type": "display_data"
    }
   ],
   "source": [
    "lasso.set_params(alpha=gscv.best_params_['alpha'])\n",
    "lasso.fit(x_nrm, y_bqc)\n",
    "print(\"Optimized mse\",mse(y_bqc, lasso.predict(x_nrm)))\n",
    "#print(lasso.alpha_)\n",
    "print(\"Optimized lasso score\",lasso.score(x_nrm,y_bqc))\n",
    "print(lasso.coef_)\n",
    "\n",
    "plt.figure()\n",
    "plt.title(\"Regression from grid search optimized Lasso\\n\"\n",
    "           \"Variables - Biomass, Avg Sea level, SST, Harbour seals, Killer Whales, RC rates\")\n",
    "plt.plot(y_bqc,\"x\",label = 'Actual data')\n",
    "plt.grid()\n",
    "plt.plot(lasso.predict(x_nrm),\"o\",label = 'Lasso prediction with opt alpha=%0.6f, R^2=%0.6f'%(gscv.best_params_['alpha'],lasso.score(x_nrm,y_bqc)))\n",
    "plt.legend(loc = 'best')\n",
    "plt.savefig(\"Graphs/Big_Qualicum_Coho_prediction_grid_search_8_variables\")"
   ]
  },
  {
   "cell_type": "markdown",
   "id": "b9614152",
   "metadata": {},
   "source": [
    "### Using LassoCV from sklearn linear model"
   ]
  },
  {
   "cell_type": "code",
   "execution_count": 485,
   "id": "70ceefa8",
   "metadata": {},
   "outputs": [
    {
     "name": "stdout",
     "output_type": "stream",
     "text": [
      "0.9101115252717182\n",
      "0.43203606315600057\n",
      "0.08988847472828199\n",
      "[ 0.0938381  0.        -0.         0.         0.        -0.\n",
      " -0.       ]\n"
     ]
    }
   ],
   "source": [
    "lassocv = LassoCV(alphas = alphas, cv = 3, max_iter = 100000)\n",
    "lassocv.fit(x_nrm, y_bqc)\n",
    "\n",
    "lasso.set_params(alpha=lassocv.alpha_)\n",
    "lasso.fit(x_nrm, y_bqc)\n",
    "print(mse(y_bqc, lasso.predict(x_nrm)))\n",
    "print(lassocv.alpha_)\n",
    "print(lasso.score(x_nrm,y_bqc))\n",
    "print(lasso.coef_)"
   ]
  },
  {
   "cell_type": "code",
   "execution_count": 488,
   "id": "d491a32d",
   "metadata": {},
   "outputs": [
    {
     "data": {
      "image/png": "[encoded data removed]",
      "text/plain": [
       "<Figure size 640x480 with 1 Axes>"
      ]
     },
     "metadata": {},
     "output_type": "display_data"
    }
   ],
   "source": [
    "plt.figure()\n",
    "plt.title(\"Regression from Lasso CV\\n\"\n",
    "            \"Variables - Biomass, Avg Sea level, SST, Harbour seals, Killer Whales, RC rates\")\n",
    "plt.plot(y_bqc,\"x\",label = 'Actual data')\n",
    "plt.grid()\n",
    "plt.plot(lasso.predict(x_nrm),\"o\",label = 'Lasso prediction with opt alpha=%0.6f, R^2=%0.6f'%(lassocv.alpha_,lasso.score(x_nrm,y_bqc)))\n",
    "plt.legend(loc = 'best')\n",
    "plt.savefig(\"Graphs/Cowichan_Chinook_prediction_Lasso_CV_search_8_variables\")"
   ]
  },
  {
   "cell_type": "code",
   "execution_count": null,
   "id": "5d3f81b0",
   "metadata": {},
   "outputs": [],
   "source": []
  }
 ],
 "metadata": {
  "kernelspec": {
   "display_name": "Python 3 (ipykernel)",
   "language": "python",
   "name": "python3"
  },
  "language_info": {
   "codemirror_mode": {
    "name": "ipython",
    "version": 3
   },
   "file_extension": ".py",
   "mimetype": "text/x-python",
   "name": "python",
   "nbconvert_exporter": "python",
   "pygments_lexer": "ipython3",
   "version": "3.10.9"
  }
 },
 "nbformat": 4,
 "nbformat_minor": 5
}
